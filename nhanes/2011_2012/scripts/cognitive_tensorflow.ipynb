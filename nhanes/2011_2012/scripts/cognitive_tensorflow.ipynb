{
 "cells": [
  {
   "cell_type": "markdown",
   "id": "f269f0b2-1eda-4ec9-9163-d5953c25770c",
   "metadata": {
    "tags": []
   },
   "source": [
    "# Cognitive Data with Tensorflow\n",
    "adapted from *Heart Disease Prediction using ANN*  \n",
    "https://www.geeksforgeeks.org/heart-disease-prediction-using-ann/"
   ]
  },
  {
   "cell_type": "code",
   "execution_count": 1,
   "id": "3864e646-b3f0-480b-a5c9-75992e2f59b9",
   "metadata": {
    "tags": []
   },
   "outputs": [],
   "source": [
    "%load_ext autoreload\n",
    "%autoreload 2"
   ]
  },
  {
   "cell_type": "code",
   "execution_count": 2,
   "id": "14a00880-9f98-4a99-9cd7-1e353e70a461",
   "metadata": {
    "tags": []
   },
   "outputs": [],
   "source": [
    "import pandas as pds\n",
    "import numpy as np\n",
    "import matplotlib.pyplot as plt\n",
    "import seaborn as sns\n",
    "import shap\n",
    "from utils import make_machine_learning_df, plot_roc_curve, plot_patient_age_gender"
   ]
  },
  {
   "cell_type": "code",
   "execution_count": 3,
   "id": "302afbce-9abb-4053-b77e-5f4aeaee776c",
   "metadata": {
    "tags": []
   },
   "outputs": [],
   "source": [
    "%matplotlib inline \n",
    "sns.set() # set seaborn styles, not sure I need to run %matplotlib inline "
   ]
  },
  {
   "cell_type": "code",
   "execution_count": 4,
   "id": "91ac15a8-eb52-4c0d-b6dd-c99545eef00c",
   "metadata": {
    "tags": []
   },
   "outputs": [],
   "source": [
    "# sklearn libraries\n",
    "from sklearn.preprocessing import StandardScaler\n",
    "from sklearn.model_selection import train_test_split, StratifiedKFold\n",
    "from sklearn.metrics import accuracy_score, f1_score, recall_score, classification_report, roc_auc_score, roc_curve, confusion_matrix"
   ]
  },
  {
   "cell_type": "code",
   "execution_count": 5,
   "id": "5ad98a63-f790-4cd8-8eec-76d9ea4cf0ec",
   "metadata": {
    "tags": []
   },
   "outputs": [],
   "source": [
    "# tensorflow libraries\n",
    "import tensorflow as tf\n",
    "import keras\n",
    "from keras.models import Sequential\n",
    "from keras.layers import Dense"
   ]
  },
  {
   "cell_type": "markdown",
   "id": "ee2645c0-115c-4bcd-9239-fb416d096829",
   "metadata": {},
   "source": [
    "---"
   ]
  },
  {
   "cell_type": "markdown",
   "id": "5a271e5c-1fe0-4798-a934-5fa5743623da",
   "metadata": {
    "tags": []
   },
   "source": [
    "## data prep\n",
    "create training data for deomgraphics, cognitive functioning scrores, and perio info  \n",
    "NHANES cognitive data downloaded from https://www.icpsr.umich.edu/web/about/cms/3625/"
   ]
  },
  {
   "cell_type": "code",
   "execution_count": 6,
   "id": "6394a482-c81d-4ec8-a138-6e904d80f40a",
   "metadata": {
    "tags": []
   },
   "outputs": [
    {
     "data": {
      "text/plain": [
       "8554"
      ]
     },
     "execution_count": 6,
     "metadata": {},
     "output_type": "execute_result"
    }
   ],
   "source": [
    "adjusted_df = make_machine_learning_df() # NB: the data is duplicated to reflect surview weights\n",
    "len(adjusted_df)"
   ]
  },
  {
   "cell_type": "markdown",
   "id": "aa9781b6-d5cf-46df-811b-1574a537f487",
   "metadata": {
    "tags": []
   },
   "source": [
    "---"
   ]
  },
  {
   "cell_type": "markdown",
   "id": "43935a12-5459-4c2d-9a86-5249c47ac244",
   "metadata": {},
   "source": [
    "## scale/standardize data"
   ]
  },
  {
   "cell_type": "code",
   "execution_count": 7,
   "id": "05a53790-2289-4f34-9677-c99ff96ac9d7",
   "metadata": {
    "tags": []
   },
   "outputs": [],
   "source": [
    "# standarize train_df values\n",
    "scaler = StandardScaler() # creates z-scores\n",
    "\n",
    "# trainform data\n",
    "standardize_cols = ['age', 'pct_teeth_gt_3', 'pct_teeth_gt_4', 'pct_teeth_gt_5', 'pct_teeth_gt_6']\n",
    "scaled_data = scaler.fit_transform(adjusted_df[standardize_cols].to_numpy())\n",
    "\n",
    "# put scaled data in dataframe\n",
    "scaled_df = pds.DataFrame(scaled_data, columns=standardize_cols, index=adjusted_df.index)\n",
    "scaled_df = pds.concat([adjusted_df[['female', 'low_global_re']], scaled_df], axis=1)"
   ]
  },
  {
   "cell_type": "code",
   "execution_count": 8,
   "id": "0e9915a7-cc11-4e20-ad3f-1582dadbd75f",
   "metadata": {
    "tags": []
   },
   "outputs": [
    {
     "data": {
      "text/plain": [
       "0    5388\n",
       "1    3166\n",
       "Name: female, dtype: int64"
      ]
     },
     "execution_count": 8,
     "metadata": {},
     "output_type": "execute_result"
    }
   ],
   "source": [
    "scaled_df.female.value_counts()"
   ]
  },
  {
   "cell_type": "code",
   "execution_count": 9,
   "id": "5fb9cce7-37e2-42f1-a507-a2abbf0d8673",
   "metadata": {
    "tags": []
   },
   "outputs": [
    {
     "data": {
      "text/plain": [
       "<module 'matplotlib.pyplot' from '/Users/duncanw/repos/uflcod/periodontal-disease-and-cognitive-functioning/nhanes/2011_2012/scripts/venv/lib/python3.10/site-packages/matplotlib/pyplot.py'>"
      ]
     },
     "execution_count": 9,
     "metadata": {},
     "output_type": "execute_result"
    },
    {
     "data": {
      "image/png": "[encoded data removed]",
      "text/plain": [
       "<Figure size 1200x200 with 3 Axes>"
      ]
     },
     "metadata": {},
     "output_type": "display_data"
    }
   ],
   "source": [
    "plot_patient_age_gender(adjusted_df)"
   ]
  },
  {
   "cell_type": "markdown",
   "id": "b202b445-a5cd-4ec1-9513-cf7f648f177f",
   "metadata": {},
   "source": [
    "---"
   ]
  },
  {
   "cell_type": "markdown",
   "id": "768c4661-dcbb-4411-8278-25420932694c",
   "metadata": {
    "tags": []
   },
   "source": [
    "## split train/test datasets"
   ]
  },
  {
   "cell_type": "code",
   "execution_count": 10,
   "id": "c80404cd-3a3f-4f3d-8dcd-f126591bf2be",
   "metadata": {
    "tags": []
   },
   "outputs": [],
   "source": [
    "X = scaled_df.drop('low_global_re', axis=1)\n",
    "y = scaled_df['low_global_re']"
   ]
  },
  {
   "cell_type": "code",
   "execution_count": 11,
   "id": "1a1f2a65-a3a3-46e1-b4e9-9d2a0947dbf7",
   "metadata": {
    "tags": []
   },
   "outputs": [],
   "source": [
    "# X.head()"
   ]
  },
  {
   "cell_type": "code",
   "execution_count": 12,
   "id": "8a3eba03-70a1-4801-a255-c5660f0aecee",
   "metadata": {
    "tags": []
   },
   "outputs": [],
   "source": [
    "# create test and train datasets\n",
    "X_train, X_test, y_train, y_test = \\\n",
    "    train_test_split(\n",
    "        X,\n",
    "        y,\n",
    "        test_size=0.3, \n",
    "        random_state=42, \n",
    "        stratify=y\n",
    "    )"
   ]
  },
  {
   "cell_type": "markdown",
   "id": "4b28035c-bc5f-471a-8d47-757fb5b42582",
   "metadata": {},
   "source": [
    "---"
   ]
  },
  {
   "cell_type": "code",
   "execution_count": 13,
   "id": "59841782-8dcb-4984-83ef-28a870b4a7d9",
   "metadata": {
    "tags": []
   },
   "outputs": [
    {
     "data": {
      "text/plain": [
       "[PhysicalDevice(name='/physical_device:CPU:0', device_type='CPU'),\n",
       " PhysicalDevice(name='/physical_device:GPU:0', device_type='GPU')]"
      ]
     },
     "execution_count": 13,
     "metadata": {},
     "output_type": "execute_result"
    }
   ],
   "source": [
    "tf.config.list_physical_devices()"
   ]
  },
  {
   "cell_type": "code",
   "execution_count": 14,
   "id": "d4e88e13-24bc-47b4-9f96-507bb58bc7af",
   "metadata": {
    "tags": []
   },
   "outputs": [
    {
     "name": "stdout",
     "output_type": "stream",
     "text": [
      "Metal device set to: Apple M1 Max\n"
     ]
    },
    {
     "name": "stderr",
     "output_type": "stream",
     "text": [
      "2023-03-20 23:20:14.333902: I tensorflow/core/common_runtime/pluggable_device/pluggable_device_factory.cc:305] Could not identify NUMA node of platform GPU ID 0, defaulting to 0. Your kernel may not have been built with NUMA support.\n",
      "2023-03-20 23:20:14.334297: I tensorflow/core/common_runtime/pluggable_device/pluggable_device_factory.cc:271] Created TensorFlow device (/job:localhost/replica:0/task:0/device:GPU:0 with 0 MB memory) -> physical PluggableDevice (device: 0, name: METAL, pci bus id: <undefined>)\n"
     ]
    }
   ],
   "source": [
    "clf = Sequential()\n",
    "clf.add(Dense(activation = \"relu\", input_dim = 6, \n",
    "                     units = 6, kernel_initializer = \"uniform\"))\n",
    "clf.add(Dense(activation = \"relu\", units = 4, \n",
    "                     kernel_initializer = \"uniform\"))\n",
    "# clf.add(Dense(activation = \"relu\", units = 2, \n",
    "#                      kernel_initializer = \"uniform\"))  # adding extra layer doesn't help\n",
    "clf.add(Dense(activation = \"sigmoid\", units = 1, \n",
    "                     kernel_initializer = \"uniform\"))\n",
    "clf.compile(optimizer = 'adam' , loss = 'binary_crossentropy', \n",
    "                   metrics = ['accuracy'] )"
   ]
  },
  {
   "cell_type": "code",
   "execution_count": 15,
   "id": "012a1d8f-f882-4ef6-9c85-0c950bc95208",
   "metadata": {
    "tags": []
   },
   "outputs": [
    {
     "name": "stderr",
     "output_type": "stream",
     "text": [
      "2023-03-20 23:20:28.026843: W tensorflow/core/platform/profile_utils/cpu_utils.cc:128] Failed to get CPU frequency: 0 Hz\n",
      "2023-03-20 23:20:28.212214: I tensorflow/core/grappler/optimizers/custom_graph_optimizer_registry.cc:113] Plugin optimizer for device_type GPU is enabled.\n"
     ]
    },
    {
     "data": {
      "text/plain": [
       "<keras.callbacks.History at 0x2beeb6a70>"
      ]
     },
     "execution_count": 15,
     "metadata": {},
     "output_type": "execute_result"
    }
   ],
   "source": [
    "clf.fit(X_train , y_train , batch_size = 8 ,epochs = 10, verbose=False)"
   ]
  },
  {
   "cell_type": "code",
   "execution_count": 16,
   "id": "ec5fe038-5fed-40a4-aa73-2bc56265a051",
   "metadata": {
    "tags": []
   },
   "outputs": [
    {
     "name": "stdout",
     "output_type": "stream",
     "text": [
      "81/81 [==============================] - 0s 2ms/step\n"
     ]
    },
    {
     "name": "stderr",
     "output_type": "stream",
     "text": [
      "2023-03-20 23:21:19.317243: I tensorflow/core/grappler/optimizers/custom_graph_optimizer_registry.cc:113] Plugin optimizer for device_type GPU is enabled.\n"
     ]
    }
   ],
   "source": [
    "y_proba = clf.predict(X_test)\n",
    "y_pred = tf.greater(y_proba, 0.5)"
   ]
  },
  {
   "cell_type": "code",
   "execution_count": 17,
   "id": "7e68dfb1-5d7a-473d-81ab-d3622a632714",
   "metadata": {
    "tags": []
   },
   "outputs": [],
   "source": [
    "auc_score = round(roc_auc_score(y_test, y_proba), 5)\n",
    "report = classification_report(y_test, y_pred, zero_division=0)"
   ]
  },
  {
   "cell_type": "code",
   "execution_count": 18,
   "id": "2a4212c6-71fe-475e-b5d6-0f15ba2dced4",
   "metadata": {
    "tags": []
   },
   "outputs": [
    {
     "name": "stdout",
     "output_type": "stream",
     "text": [
      "AUC: 0.80277\n",
      "              precision    recall  f1-score   support\n",
      "\n",
      "         0.0       0.84      0.93      0.88      2002\n",
      "         1.0       0.59      0.37      0.45       565\n",
      "\n",
      "    accuracy                           0.80      2567\n",
      "   macro avg       0.71      0.65      0.67      2567\n",
      "weighted avg       0.78      0.80      0.79      2567\n",
      "\n"
     ]
    }
   ],
   "source": [
    "print(f'AUC: {auc_score}')\n",
    "print(report)"
   ]
  },
  {
   "cell_type": "code",
   "execution_count": 19,
   "id": "8dd832c8-1cb7-49d1-a2de-fb4d983c9fec",
   "metadata": {
    "tags": []
   },
   "outputs": [
    {
     "data": {
      "text/plain": [
       "array([[1857,  145],\n",
       "       [ 358,  207]])"
      ]
     },
     "execution_count": 19,
     "metadata": {},
     "output_type": "execute_result"
    }
   ],
   "source": [
    "confusion_matrix(y_test,y_pred)"
   ]
  },
  {
   "cell_type": "code",
   "execution_count": 20,
   "id": "05242976-a032-423a-8512-23803158dc67",
   "metadata": {
    "tags": []
   },
   "outputs": [
    {
     "name": "stdout",
     "output_type": "stream",
     "text": [
      "INFO:tensorflow:Assets written to: tf_classifier/assets\n"
     ]
    }
   ],
   "source": [
    "clf.save('tf_classifier')"
   ]
  },
  {
   "cell_type": "code",
   "execution_count": null,
   "id": "0de74dbc-ce33-4969-bf1a-84eed3f42366",
   "metadata": {},
   "outputs": [],
   "source": []
  }
 ],
 "metadata": {
  "kernelspec": {
   "display_name": "Python 3 (ipykernel)",
   "language": "python",
   "name": "python3"
  },
  "language_info": {
   "codemirror_mode": {
    "name": "ipython",
    "version": 3
   },
   "file_extension": ".py",
   "mimetype": "text/x-python",
   "name": "python",
   "nbconvert_exporter": "python",
   "pygments_lexer": "ipython3",
   "version": "3.10.10"
  }
 },
 "nbformat": 4,
 "nbformat_minor": 5
}
