{
 "cells": [
  {
   "cell_type": "code",
   "execution_count": 11,
   "id": "84af9fc6-9a13-42de-9043-8c87398756ee",
   "metadata": {
    "tags": []
   },
   "outputs": [],
   "source": [
    "import pandas as pds\n",
    "import numpy as np\n",
    "import seaborn as sns\n",
    "from sklearn import svm\n",
    "from sklearn.naive_bayes import GaussianNB\n",
    "from sklearn.linear_model import LogisticRegression, LinearRegression\n",
    "from sklearn.model_selection import train_test_split\n",
    "from sklearn.metrics import accuracy_score, recall_score, precision_score, f1_score, classification_report"
   ]
  },
  {
   "cell_type": "markdown",
   "id": "7e1a1975-99a7-44bf-b5a3-fc065c18486c",
   "metadata": {},
   "source": [
    "NHANES cognitive data downloaded from https://www.icpsr.umich.edu/web/about/cms/3625/"
   ]
  },
  {
   "cell_type": "code",
   "execution_count": 3,
   "id": "0d641448-ed85-497e-85b2-de2b245c4531",
   "metadata": {
    "tags": []
   },
   "outputs": [],
   "source": [
    "demo_df = pds.read_table('../refined_data/demographics.tsv',  index_col='SEQN')\n",
    "nhanescog_df = pds.read_csv('../data/nhanescog_2011_12_CSV.csv', index_col='seqn')\n",
    "nhanescog_df.index.name = 'SEQN' # change index name for merging\n",
    "perio_df = pds.read_table('../refined_data/perio_summary.tsv', index_col='SEQN')"
   ]
  },
  {
   "cell_type": "code",
   "execution_count": 4,
   "id": "ce68e43d-3c8b-4350-bea7-58273be55fc0",
   "metadata": {
    "tags": []
   },
   "outputs": [
    {
     "data": {
      "text/plain": [
       "837"
      ]
     },
     "execution_count": 4,
     "metadata": {},
     "output_type": "execute_result"
    }
   ],
   "source": [
    "# merge demographics, cognitive functioning scores, and perio\n",
    "merged_df = \\\n",
    "    demo_df.merge(\n",
    "        nhanescog_df.merge(perio_df, how='inner', on='SEQN'),\n",
    "        how='inner',\n",
    "        on='SEQN'\n",
    "    )\n",
    "len(merged_df)"
   ]
  },
  {
   "cell_type": "code",
   "execution_count": 5,
   "id": "5ce4b604-ad19-4dfb-83bd-5f0ebc362a27",
   "metadata": {
    "tags": []
   },
   "outputs": [
    {
     "data": {
      "text/plain": [
       "['year',\n",
       " 'ridstatr',\n",
       " 'riagendr',\n",
       " 'female',\n",
       " 'ridageyr',\n",
       " 'age_cat',\n",
       " 'ridreth1',\n",
       " 'race',\n",
       " 'ridreth3',\n",
       " 'dmdeduc2',\n",
       " 'edu_cat',\n",
       " 'cfq_present',\n",
       " 'cfastat',\n",
       " 'cfdccs',\n",
       " 'cfdcst1',\n",
       " 'cfdcst2',\n",
       " 'cfdcst3',\n",
       " 'cfdcsr',\n",
       " 'cfdast',\n",
       " 'cfdds',\n",
       " 'cerad_sum',\n",
       " 'z_cerad_re',\n",
       " 'z_animal_re',\n",
       " 'z_digit_re',\n",
       " 'z_delayed_re',\n",
       " 'z_global_re',\n",
       " 'low_cerad_re',\n",
       " 'low_animal_re',\n",
       " 'low_digit_re',\n",
       " 'low_delayed_re',\n",
       " 'low_global_re',\n",
       " 'z_cerad_edu',\n",
       " 'z_animal_edu',\n",
       " 'z_digit_edu',\n",
       " 'z_delayed_edu',\n",
       " 'z_global_edu',\n",
       " 'low_cerad_edu',\n",
       " 'low_animal_edu',\n",
       " 'low_digit_edu',\n",
       " 'low_delayed_edu',\n",
       " 'low_global_edu',\n",
       " 'z_cerad_age',\n",
       " 'z_animal_age',\n",
       " 'z_digit_age',\n",
       " 'z_delayed_age',\n",
       " 'z_global_age',\n",
       " 'low_cerad_age',\n",
       " 'low_animal_age',\n",
       " 'low_digit_age',\n",
       " 'low_delayed_age',\n",
       " 'low_global_age',\n",
       " 'wtint2yr',\n",
       " 'wtmec2yr',\n",
       " 'sdmvpsu',\n",
       " 'sdmvstra']"
      ]
     },
     "execution_count": 5,
     "metadata": {},
     "output_type": "execute_result"
    }
   ],
   "source": [
    "list(nhanescog_df.columns)"
   ]
  },
  {
   "cell_type": "code",
   "execution_count": 24,
   "id": "3138f033-cccc-4807-ade1-df2e7e8c0323",
   "metadata": {
    "tags": []
   },
   "outputs": [],
   "source": [
    "train_df = merged_df.dropna()[['pct_teeth_gt_3', 'pct_teeth_gt_4', 'pct_teeth_gt_5', 'pct_teeth_gt_6']]\n",
    "y = merged_df.dropna()['low_cerad_re'].values"
   ]
  },
  {
   "cell_type": "code",
   "execution_count": 27,
   "id": "c3d2ea94-0ed2-4c3c-a9f9-353813fa9907",
   "metadata": {
    "tags": []
   },
   "outputs": [
    {
     "data": {
      "text/plain": [
       "array([0., 1., 0., 0., 1., 0., 0., 0., 0., 0., 1., 0., 0., 1., 0., 1., 0.,\n",
       "       1., 0., 0., 0., 0., 0., 0., 0., 0., 1., 1., 0., 0., 1., 1., 0., 0.,\n",
       "       0., 0., 0., 0., 0., 0., 0., 1., 0., 0., 0., 0., 0., 0., 1., 0., 0.,\n",
       "       0., 0., 0., 0., 0., 1., 0., 1., 1., 1., 0., 0., 0., 0., 0., 1., 0.,\n",
       "       0., 0., 0., 0., 0., 1., 0., 0., 1., 1., 0., 0., 0., 0., 1., 0., 0.,\n",
       "       0., 0., 0., 1., 1., 1., 1., 0., 0., 0., 0., 0., 0., 0., 0., 1., 0.,\n",
       "       0., 1., 0., 0., 0., 0., 0., 0., 1., 0., 0., 0., 0., 0., 0., 0., 0.,\n",
       "       0., 1., 0., 0., 0., 1., 1., 1., 0., 0., 0., 0., 0., 0., 1., 0., 0.,\n",
       "       0., 0., 1., 0., 0., 0., 0., 0., 0., 1., 0., 0., 0., 0., 0., 0., 1.,\n",
       "       0., 0., 1., 0., 0., 0., 0., 0., 0., 0., 0., 0., 1., 0., 0., 0., 0.,\n",
       "       0., 0., 0., 1., 0., 0., 0., 1., 0., 0., 0., 0., 0., 0., 0., 0., 0.,\n",
       "       0., 1., 0., 1., 0., 1., 0., 0., 0., 0., 0., 0., 1., 1., 0., 1., 0.,\n",
       "       1., 0., 1., 0., 1., 0., 0., 0., 1., 1., 0., 0., 0., 1., 0., 0., 0.,\n",
       "       0., 1., 0., 0., 0., 0., 0., 0., 0., 1., 0., 0., 0., 1., 1., 0., 0.,\n",
       "       0., 0., 0., 0., 0., 0., 1., 0., 1., 1., 0., 0., 0., 0., 0., 1., 0.,\n",
       "       0., 0., 0., 0., 0., 0., 0., 0., 0., 0., 0., 0., 0., 1., 0., 0., 0.,\n",
       "       0., 1., 0., 0., 0., 0., 0., 0., 0., 0., 0., 0., 0., 0., 0., 0., 0.,\n",
       "       0., 0., 0., 0., 0., 1., 0., 0., 0., 0., 0., 0., 0., 0., 0., 0., 0.,\n",
       "       0., 0., 1., 0., 0., 0., 1.])"
      ]
     },
     "execution_count": 27,
     "metadata": {},
     "output_type": "execute_result"
    }
   ],
   "source": [
    "y"
   ]
  },
  {
   "cell_type": "code",
   "execution_count": 13,
   "id": "2beec9fe-b6e6-4dcc-9fb8-5599d88a1255",
   "metadata": {
    "tags": []
   },
   "outputs": [
    {
     "data": {
      "text/plain": [
       "Index(['num_teeth', 'max_CAL', 'num_teeth_gt_3', 'num_teeth_gt_4',\n",
       "       'num_teeth_gt_5', 'num_teeth_gt_6', 'pct_teeth_gt_3', 'pct_teeth_gt_4',\n",
       "       'pct_teeth_gt_5', 'pct_teeth_gt_6'],\n",
       "      dtype='object')"
      ]
     },
     "execution_count": 13,
     "metadata": {},
     "output_type": "execute_result"
    }
   ],
   "source": [
    "perio_df.columnsvalues"
   ]
  },
  {
   "cell_type": "code",
   "execution_count": 6,
   "id": "32a6eb97-c2c8-41b7-afba-7d270ebd9e31",
   "metadata": {
    "tags": []
   },
   "outputs": [
    {
     "data": {
      "text/plain": [
       "328"
      ]
     },
     "execution_count": 6,
     "metadata": {},
     "output_type": "execute_result"
    }
   ],
   "source": [
    "merged_df.low_cerad_re.count()"
   ]
  },
  {
   "cell_type": "markdown",
   "id": "8d7eee4f-35a9-430d-be95-b79a9991e167",
   "metadata": {},
   "source": [
    "add single low score flag"
   ]
  },
  {
   "cell_type": "code",
   "execution_count": 7,
   "id": "2b52a995-425f-4a7a-9963-c4823069551a",
   "metadata": {
    "tags": []
   },
   "outputs": [],
   "source": [
    "for idx in merged_df.index:\n",
    "    if (\n",
    "        merged_df.loc[idx, 'low_animal_age'] == 1\n",
    "        or merged_df.loc[idx, 'low_animal_edu'] == 1\n",
    "        or merged_df.loc[idx, 'low_animal_re'] == 1\n",
    "        or merged_df.loc[idx, 'low_cerad_age'] == 1\n",
    "        or merged_df.loc[idx, 'low_cerad_edu'] == 1\n",
    "        or merged_df.loc[idx, 'low_cerad_re'] == 1\n",
    "        or merged_df.loc[idx, 'low_delayed_age'] == 1\n",
    "        or merged_df.loc[idx, 'low_delayed_edu'] == 1\n",
    "        or merged_df.loc[idx, 'low_delayed_re'] == 1\n",
    "        or merged_df.loc[idx, 'low_digit_age'] == 1\n",
    "        or merged_df.loc[idx, 'low_digit_edu'] == 1\n",
    "        or merged_df.loc[idx, 'low_digit_re'] == 1\n",
    "       ):\n",
    "        merged_df.loc[idx, 'low_score'] = 1\n",
    "    else:\n",
    "        merged_df.loc[idx, 'low_score'] = 1"
   ]
  },
  {
   "cell_type": "code",
   "execution_count": 8,
   "id": "b5ffa63c-a13e-4d7d-b95e-51f3e7a9dc17",
   "metadata": {
    "tags": []
   },
   "outputs": [
    {
     "data": {
      "text/plain": [
       "1.0    837\n",
       "Name: low_score, dtype: int64"
      ]
     },
     "execution_count": 8,
     "metadata": {},
     "output_type": "execute_result"
    }
   ],
   "source": [
    "merged_df.low_score.value_counts()"
   ]
  },
  {
   "cell_type": "code",
   "execution_count": 33,
   "id": "d4e84aee-7f40-457d-bae0-ed0fa024bcb0",
   "metadata": {
    "tags": []
   },
   "outputs": [
    {
     "data": {
      "text/plain": [
       "292"
      ]
     },
     "execution_count": 33,
     "metadata": {},
     "output_type": "execute_result"
    }
   ],
   "source": [
    "246 + 46"
   ]
  },
  {
   "cell_type": "code",
   "execution_count": 12,
   "id": "23051067-4ee1-486c-a5ae-4c5bbabcb3a5",
   "metadata": {},
   "outputs": [],
   "source": [
    "lin_regr = LinearRegression()"
   ]
  },
  {
   "cell_type": "code",
   "execution_count": null,
   "id": "fbd46be7-d731-4332-b2a2-2fcc3e9ccea0",
   "metadata": {},
   "outputs": [],
   "source": []
  }
 ],
 "metadata": {
  "kernelspec": {
   "display_name": "Python 3 (ipykernel)",
   "language": "python",
   "name": "python3"
  },
  "language_info": {
   "codemirror_mode": {
    "name": "ipython",
    "version": 3
   },
   "file_extension": ".py",
   "mimetype": "text/x-python",
   "name": "python",
   "nbconvert_exporter": "python",
   "pygments_lexer": "ipython3",
   "version": "3.11.2"
  }
 },
 "nbformat": 4,
 "nbformat_minor": 5
}
