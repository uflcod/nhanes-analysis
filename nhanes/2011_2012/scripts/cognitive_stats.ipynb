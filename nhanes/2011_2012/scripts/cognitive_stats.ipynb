{
 "cells": [
  {
   "cell_type": "markdown",
   "id": "49825f42-764d-4af9-8b46-3cd8da8d517e",
   "metadata": {},
   "source": [
    "# Stats for the cognitive data"
   ]
  },
  {
   "cell_type": "code",
   "execution_count": null,
   "id": "e9b26f11-fb5a-4c46-aeea-413722508c1d",
   "metadata": {
    "tags": []
   },
   "outputs": [],
   "source": [
    "%load_ext autoreload\n",
    "%autoreload 2"
   ]
  },
  {
   "cell_type": "code",
   "execution_count": null,
   "id": "a04f0635-a0af-456e-ac90-e5ddfc99ad5b",
   "metadata": {
    "tags": []
   },
   "outputs": [],
   "source": [
    "import pandas as pds\n",
    "import numpy as np\n",
    "import matplotlib.pyplot as plt\n",
    "import seaborn as sns\n",
    "from utils import make_machine_learning_df, make_pd_cog_contingency_table, plot_hist_row, plot_countplot_row, add_age_cal_class\n",
    "from scipy.stats import hypergeom, fisher_exact, chi2_contingency\n",
    "from scipy.stats.contingency import odds_ratio"
   ]
  },
  {
   "cell_type": "markdown",
   "id": "b5c18ea5-e583-4290-8887-0e9980de8e9f",
   "metadata": {},
   "source": [
    "## load training data\n",
    "- `train_df` holds data adjusted with the survey weights\n",
    "- `base_df` holds non-adjusted survey weight data"
   ]
  },
  {
   "cell_type": "code",
   "execution_count": null,
   "id": "59161e3b-0dc0-4460-9459-014b418853d5",
   "metadata": {
    "tags": []
   },
   "outputs": [],
   "source": [
    "train_df = make_machine_learning_df(weight_divisor=100)\n",
    "base_df = make_machine_learning_df(use_survey_weight=False)"
   ]
  },
  {
   "cell_type": "markdown",
   "id": "561c38e8-0b58-46ce-ba7d-2c40800e49fa",
   "metadata": {
    "tags": []
   },
   "source": [
    "### descriptive statistics"
   ]
  },
  {
   "cell_type": "markdown",
   "id": "6ee6f287-7969-4fca-bccf-020396ab5fc4",
   "metadata": {},
   "source": [
    "#### number of subjects"
   ]
  },
  {
   "cell_type": "code",
   "execution_count": null,
   "id": "c678aa96-9785-4e00-b001-e7c6c0e2fcbd",
   "metadata": {
    "tags": []
   },
   "outputs": [],
   "source": [
    "print(f'adjusted len:{len(train_df)} \\nbase/raw len: {len(base_df)}')"
   ]
  },
  {
   "cell_type": "markdown",
   "id": "3ae0cfc1-6737-4f1f-8f96-c6e3d103e045",
   "metadata": {},
   "source": [
    "#### gender breakdown"
   ]
  },
  {
   "cell_type": "code",
   "execution_count": null,
   "id": "455c5d66-d474-4d8b-ae69-dd6cd5c79b40",
   "metadata": {
    "tags": []
   },
   "outputs": [],
   "source": [
    "train_df.female.value_counts()"
   ]
  },
  {
   "cell_type": "code",
   "execution_count": null,
   "id": "892a9c04-568b-4afc-94f2-96d6795a9118",
   "metadata": {
    "tags": []
   },
   "outputs": [],
   "source": [
    "# train_df.head(2)"
   ]
  },
  {
   "cell_type": "markdown",
   "id": "9414bbfd-8074-4964-b12f-94622955a03e",
   "metadata": {
    "tags": []
   },
   "source": [
    "#### count plots of low cognitive score"
   ]
  },
  {
   "cell_type": "code",
   "execution_count": null,
   "id": "485ae8ad-282c-4581-90a6-ab8ff6ae7acc",
   "metadata": {
    "tags": []
   },
   "outputs": [],
   "source": [
    "dfs = [train_df, train_df]\n",
    "titles = [\"all subjects\", \"females vs males\"]\n",
    "plot_countplot_row(dfs, 'low_global_re', titles=titles, hues=[None, 'female'], figsize=(8, 2)).show()"
   ]
  },
  {
   "cell_type": "markdown",
   "id": "f11cedae-2ae7-4502-bf16-544466f72675",
   "metadata": {},
   "source": [
    "### age and cognitive score"
   ]
  },
  {
   "cell_type": "code",
   "execution_count": null,
   "id": "b10be092-0b90-4f2b-bd09-499c87f3fd8e",
   "metadata": {
    "tags": []
   },
   "outputs": [],
   "source": [
    "dfs = [train_df, train_df.query(\"female == 1\"), train_df.query(\"female == 0\")]\n",
    "titles = [\"all subjects\", \"females\", \"males\"]\n",
    "hues = ['low_global_re', 'low_global_re', 'low_global_re']\n",
    "plot_countplot_row(dfs, 'age', titles=titles, hues=hues, figsize=(18,2)).show()"
   ]
  },
  {
   "cell_type": "markdown",
   "id": "2af8ec75-f6f9-46d2-9282-fdfe2a313a11",
   "metadata": {},
   "source": [
    "#### create age and CAL class dataset"
   ]
  },
  {
   "cell_type": "code",
   "execution_count": null,
   "id": "6dcb4dad-ffc8-4b59-9d35-ca67b24784f6",
   "metadata": {
    "tags": []
   },
   "outputs": [],
   "source": [
    "age_cal_class_df = train_df.copy()\n",
    "age_cal_class_df = add_age_cal_class(age_cal_class_df)"
   ]
  },
  {
   "cell_type": "markdown",
   "id": "92a87c33-a51f-4d3a-8ab9-f272e99f0a36",
   "metadata": {},
   "source": [
    "#### create gender specific age and CAL class datasets"
   ]
  },
  {
   "cell_type": "code",
   "execution_count": null,
   "id": "0f0b0c3c-e128-4fae-83be-480780ac497f",
   "metadata": {
    "tags": []
   },
   "outputs": [],
   "source": [
    "female_age_cal_class_df = age_cal_class_df.query(\"female == 1\")\n",
    "male_age_cal_class_df = age_cal_class_df.query(\"female == 0\")"
   ]
  },
  {
   "cell_type": "code",
   "execution_count": null,
   "id": "4af819d3-ec6f-4b85-893d-4ce99d3cb873",
   "metadata": {
    "tags": []
   },
   "outputs": [],
   "source": [
    "# temp_df.head(2)"
   ]
  },
  {
   "cell_type": "code",
   "execution_count": null,
   "id": "2a308b51-f07d-4c94-a6fc-d4593c75349e",
   "metadata": {},
   "outputs": [],
   "source": [
    "fig, axs = plt.subplots(1, 3, figsize=(12, 3))\n",
    "plt.figure(figsize=(12, 2))\n",
    "sns.violinplot(data=age_cal_class_df, x='cal_class',y='age',hue='low_global_re', split=True, ax=axs[0]).set(title=\"all subjects\")\n",
    "sns.violinplot(data=female_age_cal_class_df, x='cal_class',y='age',hue='low_global_re', split=True, ax=axs[1]).set(title=\"females\")\n",
    "sns.violinplot(data=male_age_cal_class_df, x='cal_class',y='age',hue='low_global_re', split=True, ax=axs[2]).set(title=\"males\")\n",
    "sns.move_legend(axs[1], 'upper left')\n",
    "axs[0].get_legend().remove()\n",
    "axs[2].get_legend().remove()\n",
    "plt.show()"
   ]
  },
  {
   "cell_type": "code",
   "execution_count": null,
   "id": "adc7d193-e61e-4ff3-a078-eb76d79cba4a",
   "metadata": {},
   "outputs": [],
   "source": [
    "fig, axs = plt.subplots(1, 3, figsize=(12, 3))\n",
    "plt.figure(figsize=(12, 2))\n",
    "sns.boxplot(data=age_cal_class_df, x='cal_class',y='age',hue='low_global_re', ax=axs[0], notch=True).set(title=\"all subjects\")\n",
    "sns.boxplot(data=female_age_cal_class_df, x='cal_class',y='age',hue='low_global_re', ax=axs[1], notch=True).set(title=\"females\")\n",
    "sns.boxplot(data=male_age_cal_class_df, x='cal_class',y='age',hue='low_global_re', ax=axs[2], notch=True).set(title=\"males\")\n",
    "sns.move_legend(axs[1], 'upper left')\n",
    "axs[0].get_legend().remove()\n",
    "axs[2].get_legend().remove()\n",
    "plt.show()"
   ]
  },
  {
   "cell_type": "markdown",
   "id": "ad7f5e8b-627e-471a-8280-77a7a5b515f1",
   "metadata": {},
   "source": [
    "**create heatmaps**  \n",
    "In the heatmaps, the color represents the percentage of subjects in that the age class with a low cognitive score.  \n",
    "For example, in the heatmap for all subjects, 52% of the subjects aged 80+ and a CAL > 6mm have a low cogntive score.  \n",
    "The CAL classes divide the subjects in groups according to the highest level of CAL recorded."
   ]
  },
  {
   "cell_type": "code",
   "execution_count": null,
   "id": "e787c5cd-e71a-45ce-bba5-dcd510b315e0",
   "metadata": {
    "tags": []
   },
   "outputs": [],
   "source": [
    "def calc_pct(x):\n",
    "    return round(sum(x)/len(x), 2)\n",
    "\n",
    "# create dataframes for heatmaps\n",
    "plot_df = age_cal_class_df.pivot_table(\n",
    "    index='age_class', columns='cal_class', values='low_global_re', aggfunc=calc_pct, fill_value=0)\n",
    "female_plot_df = female_age_cal_class_df.pivot_table(\n",
    "    index='age_class', columns='cal_class', values='low_global_re', aggfunc=calc_pct, fill_value=0)\n",
    "male_plot_df = male_age_cal_class_df.pivot_table(\n",
    "    index='age_class', columns='cal_class', values='low_global_re', aggfunc=calc_pct, fill_value=0)\n",
    "\n",
    "fig, axs = plt.subplots(1, 3, figsize=(12, 3))\n",
    "plt.figure(figsize=(12, 2))\n",
    "sns.heatmap(data=plot_df, cmap='coolwarm', annot=True, ax=axs[0], cbar=False).set(title=\"all subjects\")\n",
    "sns.heatmap(data=female_plot_df, cmap='coolwarm', annot=True, ax=axs[1], cbar=False).set(title=\"females\", ylabel=\"\")\n",
    "sns.heatmap(\n",
    "    data=male_plot_df, cmap='coolwarm', annot=True, ax=axs[2], cbar_kws={'label': '% with low score'}).set(title=\"males\", ylabel=\"\")\n"
   ]
  },
  {
   "cell_type": "markdown",
   "id": "c2cce030-30f7-43b4-abcb-dbb9b25cb121",
   "metadata": {},
   "source": [
    "### age distribution"
   ]
  },
  {
   "cell_type": "code",
   "execution_count": null,
   "id": "045c4248-dee6-4413-a0c6-66112c2791fa",
   "metadata": {
    "tags": []
   },
   "outputs": [],
   "source": [
    "dfs = [train_df, train_df.query(\"female == 1\"), train_df.query(\"female == 0\")]\n",
    "titles = [\"all subjects\", \"females\", \"males\"]\n",
    "plot_hist_row(dfs, x='age', titles=titles).show()"
   ]
  },
  {
   "cell_type": "markdown",
   "id": "e094d4bb-76d8-4e7f-9fbb-de3e82ab4887",
   "metadata": {
    "tags": []
   },
   "source": [
    "#### percentages of clinical attachment loss"
   ]
  },
  {
   "cell_type": "code",
   "execution_count": null,
   "id": "fd62feb9-ff31-4e3b-8afe-7e1c4ce5c37c",
   "metadata": {
    "tags": []
   },
   "outputs": [],
   "source": [
    "dfs = [train_df, train_df.query(\"female == 1\"), train_df.query(\"female == 0\")]\n",
    "titles = [\"all subjects\", \"females\", \"males\"]\n",
    "plot_hist_row(dfs, x='pct_teeth_gt_3', titles=titles).show()\n",
    "plot_hist_row(dfs, x='pct_teeth_gt_4', titles=titles).show()\n",
    "plot_hist_row(dfs, x='pct_teeth_gt_5', titles=titles).show()\n",
    "plot_hist_row(dfs, x='pct_teeth_gt_6', titles=titles).show()"
   ]
  },
  {
   "cell_type": "markdown",
   "id": "96f5b1e1-cf85-40d4-af97-d986b57b701f",
   "metadata": {},
   "source": [
    "## hypergeom\n",
    "M - the total number of objects   \n",
    "n - total number of Type I objects  \n",
    "N - number of Type I objects randomly drawn without replacement from the total population (M)  \n",
    "k or x - number of successes\n",
    "\n",
    "n: number of successes in the population = **number of patients with the low cognitive score**  \n",
    "N: sample size (number of object randomly drawn) = **number of patients with PD**  \n",
    "x: **number of patients with PD & low cognitive score**  "
   ]
  },
  {
   "cell_type": "code",
   "execution_count": null,
   "id": "1c091028-628d-447b-bb36-63ac2bb76716",
   "metadata": {
    "tags": []
   },
   "outputs": [],
   "source": [
    "print('size of population:', len(train_df))\n",
    "print('number of patients with low scrore:', \n",
    "      len(train_df.query(\"low_global_re == 1.0\")))\n",
    "\n",
    "print('\\nnumber of PD patients')\n",
    "print('CAL > 3mm :', len(train_df.query(\"pct_teeth_gt_3 > 0\")))\n",
    "print('CAL > 4mm:', len(train_df.query(\"pct_teeth_gt_4 > 0\")))\n",
    "print('CAL > 5mm:', len(train_df.query(\"pct_teeth_gt_5 > 0\")))\n",
    "print('CAL > 6mm:', len(train_df.query(\"pct_teeth_gt_6 > 0\")))\n",
    "\n",
    "print('\\nnumber of PD patients with low score')\n",
    "print('CAL > 3mm & low score:', \n",
    "      len(train_df.query(\"(pct_teeth_gt_3 > 0) and (low_global_re == 1.0)\")))\n",
    "print('CAL > 4mm & low score:', \n",
    "      len(train_df.query(\"(pct_teeth_gt_4 > 0) and (low_global_re == 1.0)\")))\n",
    "print('CAL > 5mm & low score:', \n",
    "      len(train_df.query(\"(pct_teeth_gt_5 > 0) and (low_global_re == 1.0)\")))\n",
    "print('CAL > 6mm & low score:', \n",
    "      len(train_df.query(\"(pct_teeth_gt_6 > 0) and (low_global_re == 1.0)\")))"
   ]
  },
  {
   "cell_type": "code",
   "execution_count": null,
   "id": "e1a67385-66dc-49f0-8111-b90da633c40a",
   "metadata": {
    "tags": []
   },
   "outputs": [],
   "source": [
    "M = 85_564\n",
    "n = 18_849\n",
    "N = 85_564 \n",
    "x = 14_091"
   ]
  },
  {
   "cell_type": "code",
   "execution_count": null,
   "id": "c4d73ca7-900b-4158-8bf8-5d6d89af013a",
   "metadata": {
    "tags": []
   },
   "outputs": [],
   "source": [
    "pval = hypergeom.sf(x-1, M, n, N)\n",
    "round(pval, 4)"
   ]
  },
  {
   "cell_type": "markdown",
   "id": "77d3e184-5682-4bb2-a56f-e7d10afecb46",
   "metadata": {},
   "source": [
    "---"
   ]
  },
  {
   "cell_type": "markdown",
   "id": "c2d957f6-10e7-4dd7-bff6-a856c4557f4c",
   "metadata": {},
   "source": [
    "## odds ratio\n",
    "OR = (odds in exposed group) / (odds in not exposed group)\n",
    "exposed group = number of patient with low score / number of patients with PD\n",
    "not expossed group = number of patients w/o low score / number of patients with PD"
   ]
  },
  {
   "cell_type": "code",
   "execution_count": null,
   "id": "0e813f69-cc36-4857-a739-6a21e9af05ee",
   "metadata": {
    "tags": []
   },
   "outputs": [],
   "source": [
    "ctg_table = make_pd_cog_contingency_table(train_df, 'pct_teeth_gt_5', 'low_global_re')"
   ]
  },
  {
   "cell_type": "code",
   "execution_count": null,
   "id": "c4cf893f-43fc-436e-9236-872e9ed9e3a5",
   "metadata": {
    "tags": []
   },
   "outputs": [],
   "source": [
    "odds_ratio(ctg_table).statistic"
   ]
  },
  {
   "cell_type": "markdown",
   "id": "c3d86841-71b2-407b-b2f3-ff22416be107",
   "metadata": {},
   "source": [
    "## fisher exact test"
   ]
  },
  {
   "cell_type": "code",
   "execution_count": null,
   "id": "04d0e155-8e81-4539-a7d9-e52d00580a07",
   "metadata": {
    "tags": []
   },
   "outputs": [],
   "source": [
    "ctg_table = make_pd_cog_contingency_table(train_df, 'pct_teeth_gt_5', 'low_global_re')"
   ]
  },
  {
   "cell_type": "code",
   "execution_count": null,
   "id": "eafa2a24-b626-46ee-9062-47a269ab7591",
   "metadata": {
    "tags": []
   },
   "outputs": [],
   "source": [
    "oddsratio, pvalue = fisher_exact(ctg_table, alternative='two-sided')\n",
    "print(oddsratio, pvalue)"
   ]
  },
  {
   "cell_type": "code",
   "execution_count": null,
   "id": "8846acc5-0151-4c1f-9f6d-9f9a6e104394",
   "metadata": {
    "tags": []
   },
   "outputs": [],
   "source": [
    "oddsratio, pvalue = fisher_exact(ctg_table, alternative='greater')\n",
    "print(oddsratio, pvalue)"
   ]
  },
  {
   "cell_type": "code",
   "execution_count": null,
   "id": "fc9c05ae-e3b7-4d0c-9a7f-7074dd1feed0",
   "metadata": {
    "tags": []
   },
   "outputs": [],
   "source": [
    "oddsratio, pvalue = fisher_exact(ctg_table, alternative='less')\n",
    "print(oddsratio, pvalue)"
   ]
  },
  {
   "cell_type": "markdown",
   "id": "90768875-f822-4384-8a63-322c0d042a4c",
   "metadata": {
    "tags": []
   },
   "source": [
    "## Chi-squared\n",
    "Both columns are categories. So, use chi-squared instead of t-test"
   ]
  },
  {
   "cell_type": "code",
   "execution_count": null,
   "id": "b8336a99-c01b-4250-abdc-d30a1ca9f4aa",
   "metadata": {
    "tags": []
   },
   "outputs": [],
   "source": [
    "ctg_table = make_pd_cog_contingency_table(train_df, 'pct_teeth_gt_4', 'low_global_re')"
   ]
  },
  {
   "cell_type": "code",
   "execution_count": null,
   "id": "36b17524-53be-4ada-8a8d-0de88d56daa6",
   "metadata": {
    "tags": []
   },
   "outputs": [],
   "source": [
    "chi2_statistic, pvalue, dof, expected_freq = chi2_contingency(ctg_table)\n",
    "print(chi2_statistic, pvalue, dof, expected_freq)"
   ]
  },
  {
   "cell_type": "markdown",
   "id": "98d67dbb-88b3-43d4-8aa0-61475ada0f59",
   "metadata": {},
   "source": [
    "## create some tests using different levels of percentages"
   ]
  },
  {
   "cell_type": "code",
   "execution_count": null,
   "id": "6b2f1ac0-3eb9-40db-a4bd-8acca5d8fe68",
   "metadata": {
    "tags": []
   },
   "outputs": [],
   "source": [
    "# build contingency table\n",
    "pct_field = 'pct_teeth_gt_6'\n",
    "table_by_pct = pds.DataFrame (\n",
    "    {\n",
    "        'pd_25': [1.0 if (val > 0.0 and val <= 25.0) else 0 for val in train_df[pct_field]],\n",
    "        'pd_50': [1.0 if (val > 25.0 and val <= 50.0) else 0 for val in train_df[pct_field]],\n",
    "        'pd_75': [1.0 if (val > 50.0 and val <= 75.0) else 0 for val in train_df[pct_field]],\n",
    "        'pd_100': [1.0 if (val > 75.0 and val <= 100.0) else 0 for val in train_df[pct_field]],\n",
    "        'low_score': train_df.low_global_re.values\n",
    "    }\n",
    ")\n",
    "ctg_table_pct = pds.crosstab(table_by_pct['pd_25'], table_by_pct['low_score'])\n",
    "ctg_table_pct"
   ]
  },
  {
   "cell_type": "code",
   "execution_count": null,
   "id": "abc515f5-4f36-40bc-906b-3d5b84e06c15",
   "metadata": {
    "tags": []
   },
   "outputs": [],
   "source": [
    "chi2_statistic, pvalue, dof, expected_freq = chi2_contingency(ctg_table_pct)\n",
    "print(chi2_statistic, pvalue, dof, expected_freq)"
   ]
  },
  {
   "cell_type": "code",
   "execution_count": null,
   "id": "749889b0-c7a8-4316-a3e1-a840cb6118d9",
   "metadata": {},
   "outputs": [],
   "source": []
  }
 ],
 "metadata": {
  "kernelspec": {
   "display_name": "Python 3 (ipykernel)",
   "language": "python",
   "name": "python3"
  },
  "language_info": {
   "codemirror_mode": {
    "name": "ipython",
    "version": 3
   },
   "file_extension": ".py",
   "mimetype": "text/x-python",
   "name": "python",
   "nbconvert_exporter": "python",
   "pygments_lexer": "ipython3",
   "version": "3.10.10"
  }
 },
 "nbformat": 4,
 "nbformat_minor": 5
}
