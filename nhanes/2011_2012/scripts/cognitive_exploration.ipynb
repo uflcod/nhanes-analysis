{
 "cells": [
  {
   "cell_type": "code",
   "execution_count": 2,
   "metadata": {},
   "outputs": [],
   "source": [
    "%load_ext autoreload\n",
    "%autoreload 2"
   ]
  },
  {
   "cell_type": "code",
   "execution_count": 3,
   "metadata": {},
   "outputs": [],
   "source": [
    "import os\n",
    "import pandas as pds\n",
    "import numpy as np\n",
    "from itertools import groupby\n",
    "import matplotlib.pyplot as plt\n",
    "from sklearn.preprocessing import StandardScaler"
   ]
  },
  {
   "cell_type": "code",
   "execution_count": 4,
   "metadata": {},
   "outputs": [
    {
     "data": {
      "text/html": [
       "<div>\n",
       "<style scoped>\n",
       "    .dataframe tbody tr th:only-of-type {\n",
       "        vertical-align: middle;\n",
       "    }\n",
       "\n",
       "    .dataframe tbody tr th {\n",
       "        vertical-align: top;\n",
       "    }\n",
       "\n",
       "    .dataframe thead th {\n",
       "        text-align: right;\n",
       "    }\n",
       "</style>\n",
       "<table border=\"1\" class=\"dataframe\">\n",
       "  <thead>\n",
       "    <tr style=\"text-align: right;\">\n",
       "      <th></th>\n",
       "      <th>CFASTAT</th>\n",
       "      <th>CFALANG</th>\n",
       "      <th>CFDCCS</th>\n",
       "      <th>CFDCRNC</th>\n",
       "      <th>CFDCST1</th>\n",
       "      <th>CFDCST2</th>\n",
       "      <th>CFDCST3</th>\n",
       "      <th>CFDCSR</th>\n",
       "      <th>CFDCIT1</th>\n",
       "      <th>CFDCIT2</th>\n",
       "      <th>CFDCIT3</th>\n",
       "      <th>CFDCIR</th>\n",
       "      <th>CFDAPP</th>\n",
       "      <th>CFDARNC</th>\n",
       "      <th>CFDAST</th>\n",
       "      <th>CFDDPP</th>\n",
       "      <th>CFDDRNC</th>\n",
       "      <th>CFDDS</th>\n",
       "    </tr>\n",
       "    <tr>\n",
       "      <th>SEQN</th>\n",
       "      <th></th>\n",
       "      <th></th>\n",
       "      <th></th>\n",
       "      <th></th>\n",
       "      <th></th>\n",
       "      <th></th>\n",
       "      <th></th>\n",
       "      <th></th>\n",
       "      <th></th>\n",
       "      <th></th>\n",
       "      <th></th>\n",
       "      <th></th>\n",
       "      <th></th>\n",
       "      <th></th>\n",
       "      <th></th>\n",
       "      <th></th>\n",
       "      <th></th>\n",
       "      <th></th>\n",
       "    </tr>\n",
       "  </thead>\n",
       "  <tbody>\n",
       "    <tr>\n",
       "      <th>62174</th>\n",
       "      <td>1</td>\n",
       "      <td>1.0</td>\n",
       "      <td>1.0</td>\n",
       "      <td>NaN</td>\n",
       "      <td>3.0</td>\n",
       "      <td>6.0</td>\n",
       "      <td>7.0</td>\n",
       "      <td>5.0</td>\n",
       "      <td>0.0</td>\n",
       "      <td>0.0</td>\n",
       "      <td>0.0</td>\n",
       "      <td>1.0</td>\n",
       "      <td>1.0</td>\n",
       "      <td>NaN</td>\n",
       "      <td>18.0</td>\n",
       "      <td>1.0</td>\n",
       "      <td>NaN</td>\n",
       "      <td>33.0</td>\n",
       "    </tr>\n",
       "    <tr>\n",
       "      <th>62178</th>\n",
       "      <td>1</td>\n",
       "      <td>1.0</td>\n",
       "      <td>1.0</td>\n",
       "      <td>NaN</td>\n",
       "      <td>3.0</td>\n",
       "      <td>5.0</td>\n",
       "      <td>5.0</td>\n",
       "      <td>3.0</td>\n",
       "      <td>0.0</td>\n",
       "      <td>0.0</td>\n",
       "      <td>0.0</td>\n",
       "      <td>1.0</td>\n",
       "      <td>1.0</td>\n",
       "      <td>NaN</td>\n",
       "      <td>12.0</td>\n",
       "      <td>1.0</td>\n",
       "      <td>NaN</td>\n",
       "      <td>38.0</td>\n",
       "    </tr>\n",
       "    <tr>\n",
       "      <th>62191</th>\n",
       "      <td>1</td>\n",
       "      <td>1.0</td>\n",
       "      <td>1.0</td>\n",
       "      <td>NaN</td>\n",
       "      <td>4.0</td>\n",
       "      <td>5.0</td>\n",
       "      <td>7.0</td>\n",
       "      <td>5.0</td>\n",
       "      <td>0.0</td>\n",
       "      <td>0.0</td>\n",
       "      <td>0.0</td>\n",
       "      <td>0.0</td>\n",
       "      <td>1.0</td>\n",
       "      <td>NaN</td>\n",
       "      <td>17.0</td>\n",
       "      <td>1.0</td>\n",
       "      <td>NaN</td>\n",
       "      <td>26.0</td>\n",
       "    </tr>\n",
       "    <tr>\n",
       "      <th>62209</th>\n",
       "      <td>1</td>\n",
       "      <td>2.0</td>\n",
       "      <td>1.0</td>\n",
       "      <td>NaN</td>\n",
       "      <td>3.0</td>\n",
       "      <td>3.0</td>\n",
       "      <td>5.0</td>\n",
       "      <td>3.0</td>\n",
       "      <td>0.0</td>\n",
       "      <td>0.0</td>\n",
       "      <td>0.0</td>\n",
       "      <td>0.0</td>\n",
       "      <td>1.0</td>\n",
       "      <td>NaN</td>\n",
       "      <td>15.0</td>\n",
       "      <td>2.0</td>\n",
       "      <td>NaN</td>\n",
       "      <td>NaN</td>\n",
       "    </tr>\n",
       "    <tr>\n",
       "      <th>62215</th>\n",
       "      <td>1</td>\n",
       "      <td>1.0</td>\n",
       "      <td>1.0</td>\n",
       "      <td>NaN</td>\n",
       "      <td>5.0</td>\n",
       "      <td>8.0</td>\n",
       "      <td>8.0</td>\n",
       "      <td>7.0</td>\n",
       "      <td>0.0</td>\n",
       "      <td>0.0</td>\n",
       "      <td>0.0</td>\n",
       "      <td>0.0</td>\n",
       "      <td>1.0</td>\n",
       "      <td>NaN</td>\n",
       "      <td>15.0</td>\n",
       "      <td>1.0</td>\n",
       "      <td>NaN</td>\n",
       "      <td>47.0</td>\n",
       "    </tr>\n",
       "  </tbody>\n",
       "</table>\n",
       "</div>"
      ],
      "text/plain": [
       "       CFASTAT  CFALANG  CFDCCS  CFDCRNC  CFDCST1  CFDCST2  CFDCST3  CFDCSR  \\\n",
       "SEQN                                                                          \n",
       "62174        1      1.0     1.0      NaN      3.0      6.0      7.0     5.0   \n",
       "62178        1      1.0     1.0      NaN      3.0      5.0      5.0     3.0   \n",
       "62191        1      1.0     1.0      NaN      4.0      5.0      7.0     5.0   \n",
       "62209        1      2.0     1.0      NaN      3.0      3.0      5.0     3.0   \n",
       "62215        1      1.0     1.0      NaN      5.0      8.0      8.0     7.0   \n",
       "\n",
       "       CFDCIT1  CFDCIT2  CFDCIT3  CFDCIR  CFDAPP  CFDARNC  CFDAST  CFDDPP  \\\n",
       "SEQN                                                                        \n",
       "62174      0.0      0.0      0.0     1.0     1.0      NaN    18.0     1.0   \n",
       "62178      0.0      0.0      0.0     1.0     1.0      NaN    12.0     1.0   \n",
       "62191      0.0      0.0      0.0     0.0     1.0      NaN    17.0     1.0   \n",
       "62209      0.0      0.0      0.0     0.0     1.0      NaN    15.0     2.0   \n",
       "62215      0.0      0.0      0.0     0.0     1.0      NaN    15.0     1.0   \n",
       "\n",
       "       CFDDRNC  CFDDS  \n",
       "SEQN                   \n",
       "62174      NaN   33.0  \n",
       "62178      NaN   38.0  \n",
       "62191      NaN   26.0  \n",
       "62209      NaN    NaN  \n",
       "62215      NaN   47.0  "
      ]
     },
     "execution_count": 4,
     "metadata": {},
     "output_type": "execute_result"
    }
   ],
   "source": [
    "# load cognitive functioning questionnaire data\n",
    "# online documentation: https://wwwn.cdc.gov/Nchs/Nhanes/2011-2012/CFQ_G.htm\n",
    "cfq_df = pds.read_table('../data/CFQ_G_cognitive_functioning.tsv', index_col='SEQN')\n",
    "cfq_df.head()"
   ]
  },
  {
   "cell_type": "code",
   "execution_count": 5,
   "metadata": {},
   "outputs": [
    {
     "data": {
      "text/plain": [
       "1687"
      ]
     },
     "execution_count": 5,
     "metadata": {},
     "output_type": "execute_result"
    }
   ],
   "source": [
    "len(cfq_df)"
   ]
  },
  {
   "cell_type": "code",
   "execution_count": 6,
   "metadata": {},
   "outputs": [
    {
     "data": {
      "text/plain": [
       "1451"
      ]
     },
     "execution_count": 6,
     "metadata": {},
     "output_type": "execute_result"
    }
   ],
   "source": [
    "# filter for patients that completed all 4 of the CERAD tests (CFDCCS)\n",
    "# for reference\n",
    "# 1: Four completed recalls (count: 1451)\n",
    "# 2: One to three completed recalls (count: 17)\n",
    "# 3: Not done (count: 42)\n",
    "# 4: Missing (count: 177)\n",
    "cfq_df = cfq_df.query(\"CFDCCS == 1\")\n",
    "len(cfq_df)"
   ]
  },
  {
   "cell_type": "code",
   "execution_count": 7,
   "metadata": {},
   "outputs": [
    {
     "data": {
      "text/plain": [
       "1429"
      ]
     },
     "execution_count": 7,
     "metadata": {},
     "output_type": "execute_result"
    }
   ],
   "source": [
    "# filter for patients completed the Animal Fluency: Sample Practice Pretest (CFDAPP)\n",
    "# for reference\n",
    "# Code  Value       Count\n",
    "# 1 \tPassed \t    1449\n",
    "# 2 \tFailed \t    7 \t\n",
    "# 3 \tNot done \t54 \t\n",
    "# . \tMissing \t177 \n",
    "cfq_df = cfq_df.query(\"CFDAPP == 1\")\n",
    "len(cfq_df)"
   ]
  },
  {
   "cell_type": "code",
   "execution_count": 8,
   "metadata": {},
   "outputs": [
    {
     "data": {
      "text/plain": [
       "1361"
      ]
     },
     "execution_count": 8,
     "metadata": {},
     "output_type": "execute_result"
    }
   ],
   "source": [
    "## filter for patients that completed the Digit Symbol: Sample Practice Pretest (CFDDPP)  \n",
    "# for reference  \n",
    "# Code    Description \tCount \t  \n",
    "# 1       Passed \t        1422 \t  \n",
    "# 2 \t  Failed \t        52 \t  \n",
    "# 3 \t  Not done \t    36 \t  \n",
    "# . \t  Missing \t    177  \n",
    "cfq_df = cfq_df.query(\"CFDDPP == 1\")\n",
    "len(cfq_df)"
   ]
  },
  {
   "cell_type": "code",
   "execution_count": 9,
   "metadata": {},
   "outputs": [
    {
     "data": {
      "text/html": [
       "<div>\n",
       "<style scoped>\n",
       "    .dataframe tbody tr th:only-of-type {\n",
       "        vertical-align: middle;\n",
       "    }\n",
       "\n",
       "    .dataframe tbody tr th {\n",
       "        vertical-align: top;\n",
       "    }\n",
       "\n",
       "    .dataframe thead th {\n",
       "        text-align: right;\n",
       "    }\n",
       "</style>\n",
       "<table border=\"1\" class=\"dataframe\">\n",
       "  <thead>\n",
       "    <tr style=\"text-align: right;\">\n",
       "      <th></th>\n",
       "      <th>CFDCSR</th>\n",
       "      <th>CFDCIR</th>\n",
       "      <th>CFDAST</th>\n",
       "      <th>CFDDS</th>\n",
       "    </tr>\n",
       "    <tr>\n",
       "      <th>SEQN</th>\n",
       "      <th></th>\n",
       "      <th></th>\n",
       "      <th></th>\n",
       "      <th></th>\n",
       "    </tr>\n",
       "  </thead>\n",
       "  <tbody>\n",
       "    <tr>\n",
       "      <th>62174</th>\n",
       "      <td>5.0</td>\n",
       "      <td>1.0</td>\n",
       "      <td>18.0</td>\n",
       "      <td>33.0</td>\n",
       "    </tr>\n",
       "    <tr>\n",
       "      <th>62178</th>\n",
       "      <td>3.0</td>\n",
       "      <td>1.0</td>\n",
       "      <td>12.0</td>\n",
       "      <td>38.0</td>\n",
       "    </tr>\n",
       "    <tr>\n",
       "      <th>62191</th>\n",
       "      <td>5.0</td>\n",
       "      <td>0.0</td>\n",
       "      <td>17.0</td>\n",
       "      <td>26.0</td>\n",
       "    </tr>\n",
       "    <tr>\n",
       "      <th>62215</th>\n",
       "      <td>7.0</td>\n",
       "      <td>0.0</td>\n",
       "      <td>15.0</td>\n",
       "      <td>47.0</td>\n",
       "    </tr>\n",
       "    <tr>\n",
       "      <th>62217</th>\n",
       "      <td>4.0</td>\n",
       "      <td>0.0</td>\n",
       "      <td>9.0</td>\n",
       "      <td>25.0</td>\n",
       "    </tr>\n",
       "  </tbody>\n",
       "</table>\n",
       "</div>"
      ],
      "text/plain": [
       "       CFDCSR  CFDCIR  CFDAST  CFDDS\n",
       "SEQN                                \n",
       "62174     5.0     1.0    18.0   33.0\n",
       "62178     3.0     1.0    12.0   38.0\n",
       "62191     5.0     0.0    17.0   26.0\n",
       "62215     7.0     0.0    15.0   47.0\n",
       "62217     4.0     0.0     9.0   25.0"
      ]
     },
     "execution_count": 9,
     "metadata": {},
     "output_type": "execute_result"
    }
   ],
   "source": [
    "# create subset of scores\n",
    "# CFDCSR - CERAD: Score Delayed Recall\n",
    "# CFDCIR - CERAD: Intrusion word count Recall\n",
    "# CFDAST - Animal Fluency: Score Total\n",
    "# CFDDS - Digit Symbol: Score\n",
    "score_df = cfq_df[['CFDCSR', 'CFDCIR', 'CFDAST', 'CFDDS']]\n",
    "score_df.head()"
   ]
  },
  {
   "cell_type": "code",
   "execution_count": 10,
   "metadata": {},
   "outputs": [
    {
     "data": {
      "text/plain": [
       "0.0     1123\n",
       "1.0      174\n",
       "2.0       43\n",
       "3.0       17\n",
       "8.0        1\n",
       "5.0        1\n",
       "10.0       1\n",
       "6.0        1\n",
       "Name: CFDCIR, dtype: int64"
      ]
     },
     "execution_count": 10,
     "metadata": {},
     "output_type": "execute_result"
    }
   ],
   "source": [
    "score_df.CFDCIR.value_counts()"
   ]
  },
  {
   "cell_type": "code",
   "execution_count": 11,
   "metadata": {},
   "outputs": [
    {
     "data": {
      "text/plain": [
       "CFDCSR    11\n",
       "CFDCIR     8\n",
       "CFDAST    36\n",
       "CFDDS     92\n",
       "dtype: int64"
      ]
     },
     "execution_count": 11,
     "metadata": {},
     "output_type": "execute_result"
    }
   ],
   "source": [
    "score_df.nunique()"
   ]
  },
  {
   "cell_type": "code",
   "execution_count": 12,
   "metadata": {},
   "outputs": [
    {
     "data": {
      "text/plain": [
       "1361"
      ]
     },
     "execution_count": 12,
     "metadata": {},
     "output_type": "execute_result"
    }
   ],
   "source": [
    "len(score_df.dropna()) # 1361, same as above"
   ]
  },
  {
   "cell_type": "code",
   "execution_count": 13,
   "metadata": {},
   "outputs": [],
   "source": [
    "# score_df[['CFDCSR', 'CFDCIR', 'CFDAST', 'CFDDS']].plot.bar()"
   ]
  },
  {
   "cell_type": "code",
   "execution_count": 14,
   "metadata": {},
   "outputs": [
    {
     "data": {
      "text/html": [
       "<div>\n",
       "<style scoped>\n",
       "    .dataframe tbody tr th:only-of-type {\n",
       "        vertical-align: middle;\n",
       "    }\n",
       "\n",
       "    .dataframe tbody tr th {\n",
       "        vertical-align: top;\n",
       "    }\n",
       "\n",
       "    .dataframe thead th {\n",
       "        text-align: right;\n",
       "    }\n",
       "</style>\n",
       "<table border=\"1\" class=\"dataframe\">\n",
       "  <thead>\n",
       "    <tr style=\"text-align: right;\">\n",
       "      <th></th>\n",
       "      <th>CFDCSR</th>\n",
       "      <th>CFDCIR</th>\n",
       "      <th>CFDAST</th>\n",
       "      <th>CFDDS</th>\n",
       "    </tr>\n",
       "    <tr>\n",
       "      <th>SEQN</th>\n",
       "      <th></th>\n",
       "      <th></th>\n",
       "      <th></th>\n",
       "      <th></th>\n",
       "    </tr>\n",
       "  </thead>\n",
       "  <tbody>\n",
       "    <tr>\n",
       "      <th>62174</th>\n",
       "      <td>5.0</td>\n",
       "      <td>1.0</td>\n",
       "      <td>18.0</td>\n",
       "      <td>33.0</td>\n",
       "    </tr>\n",
       "    <tr>\n",
       "      <th>62178</th>\n",
       "      <td>3.0</td>\n",
       "      <td>1.0</td>\n",
       "      <td>12.0</td>\n",
       "      <td>38.0</td>\n",
       "    </tr>\n",
       "    <tr>\n",
       "      <th>62191</th>\n",
       "      <td>5.0</td>\n",
       "      <td>0.0</td>\n",
       "      <td>17.0</td>\n",
       "      <td>26.0</td>\n",
       "    </tr>\n",
       "    <tr>\n",
       "      <th>62215</th>\n",
       "      <td>7.0</td>\n",
       "      <td>0.0</td>\n",
       "      <td>15.0</td>\n",
       "      <td>47.0</td>\n",
       "    </tr>\n",
       "    <tr>\n",
       "      <th>62217</th>\n",
       "      <td>4.0</td>\n",
       "      <td>0.0</td>\n",
       "      <td>9.0</td>\n",
       "      <td>25.0</td>\n",
       "    </tr>\n",
       "  </tbody>\n",
       "</table>\n",
       "</div>"
      ],
      "text/plain": [
       "       CFDCSR  CFDCIR  CFDAST  CFDDS\n",
       "SEQN                                \n",
       "62174     5.0     1.0    18.0   33.0\n",
       "62178     3.0     1.0    12.0   38.0\n",
       "62191     5.0     0.0    17.0   26.0\n",
       "62215     7.0     0.0    15.0   47.0\n",
       "62217     4.0     0.0     9.0   25.0"
      ]
     },
     "execution_count": 14,
     "metadata": {},
     "output_type": "execute_result"
    }
   ],
   "source": [
    "temp_df = score_df.head()\n",
    "temp_df"
   ]
  },
  {
   "cell_type": "code",
   "execution_count": 36,
   "metadata": {},
   "outputs": [
    {
     "data": {
      "text/html": [
       "<div>\n",
       "<style scoped>\n",
       "    .dataframe tbody tr th:only-of-type {\n",
       "        vertical-align: middle;\n",
       "    }\n",
       "\n",
       "    .dataframe tbody tr th {\n",
       "        vertical-align: top;\n",
       "    }\n",
       "\n",
       "    .dataframe thead th {\n",
       "        text-align: right;\n",
       "    }\n",
       "</style>\n",
       "<table border=\"1\" class=\"dataframe\">\n",
       "  <thead>\n",
       "    <tr style=\"text-align: right;\">\n",
       "      <th></th>\n",
       "      <th>CFDCSR</th>\n",
       "      <th>CFDCIR</th>\n",
       "      <th>CFDAST</th>\n",
       "      <th>CFDDS</th>\n",
       "    </tr>\n",
       "    <tr>\n",
       "      <th>SEQN</th>\n",
       "      <th></th>\n",
       "      <th></th>\n",
       "      <th></th>\n",
       "      <th></th>\n",
       "    </tr>\n",
       "  </thead>\n",
       "  <tbody>\n",
       "    <tr>\n",
       "      <th>62174</th>\n",
       "      <td>0.150756</td>\n",
       "      <td>1.224745</td>\n",
       "      <td>1.147832</td>\n",
       "      <td>-0.098354</td>\n",
       "    </tr>\n",
       "    <tr>\n",
       "      <th>62178</th>\n",
       "      <td>-1.356801</td>\n",
       "      <td>1.224745</td>\n",
       "      <td>-0.664534</td>\n",
       "      <td>0.516359</td>\n",
       "    </tr>\n",
       "    <tr>\n",
       "      <th>62191</th>\n",
       "      <td>0.150756</td>\n",
       "      <td>-0.816497</td>\n",
       "      <td>0.845771</td>\n",
       "      <td>-0.958952</td>\n",
       "    </tr>\n",
       "    <tr>\n",
       "      <th>62215</th>\n",
       "      <td>1.658312</td>\n",
       "      <td>-0.816497</td>\n",
       "      <td>0.241649</td>\n",
       "      <td>1.622842</td>\n",
       "    </tr>\n",
       "    <tr>\n",
       "      <th>62217</th>\n",
       "      <td>-0.603023</td>\n",
       "      <td>-0.816497</td>\n",
       "      <td>-1.570717</td>\n",
       "      <td>-1.081895</td>\n",
       "    </tr>\n",
       "  </tbody>\n",
       "</table>\n",
       "</div>"
      ],
      "text/plain": [
       "         CFDCSR    CFDCIR    CFDAST     CFDDS\n",
       "SEQN                                         \n",
       "62174  0.150756  1.224745  1.147832 -0.098354\n",
       "62178 -1.356801  1.224745 -0.664534  0.516359\n",
       "62191  0.150756 -0.816497  0.845771 -0.958952\n",
       "62215  1.658312 -0.816497  0.241649  1.622842\n",
       "62217 -0.603023 -0.816497 -1.570717 -1.081895"
      ]
     },
     "execution_count": 36,
     "metadata": {},
     "output_type": "execute_result"
    }
   ],
   "source": [
    "# standardize scores with sklearn (other options are available too)\n",
    "std_scaler = StandardScaler()\n",
    "norm_df = pds.DataFrame(std_scaler.fit_transform(temp_df), columns=temp_df.columns, index=temp_df.index)\n",
    "norm_df"
   ]
  },
  {
   "cell_type": "code",
   "execution_count": 37,
   "metadata": {},
   "outputs": [],
   "source": [
    "norm_name_map = {'CFDCSR': 'z_CFDCSR', 'CFDCIR': 'z_CFDCIR', 'CFDAST': 'z_CFDAST', 'CFDDS': 'z_CFDDS'}\n",
    "norm_df = norm_df.rename(columns=norm_name_map)"
   ]
  },
  {
   "cell_type": "code",
   "execution_count": 38,
   "metadata": {},
   "outputs": [
    {
     "data": {
      "text/html": [
       "<div>\n",
       "<style scoped>\n",
       "    .dataframe tbody tr th:only-of-type {\n",
       "        vertical-align: middle;\n",
       "    }\n",
       "\n",
       "    .dataframe tbody tr th {\n",
       "        vertical-align: top;\n",
       "    }\n",
       "\n",
       "    .dataframe thead th {\n",
       "        text-align: right;\n",
       "    }\n",
       "</style>\n",
       "<table border=\"1\" class=\"dataframe\">\n",
       "  <thead>\n",
       "    <tr style=\"text-align: right;\">\n",
       "      <th></th>\n",
       "      <th>z_CFDCSR</th>\n",
       "      <th>z_CFDCIR</th>\n",
       "      <th>z_CFDAST</th>\n",
       "      <th>z_CFDDS</th>\n",
       "      <th>z_total</th>\n",
       "    </tr>\n",
       "    <tr>\n",
       "      <th>SEQN</th>\n",
       "      <th></th>\n",
       "      <th></th>\n",
       "      <th></th>\n",
       "      <th></th>\n",
       "      <th></th>\n",
       "    </tr>\n",
       "  </thead>\n",
       "  <tbody>\n",
       "    <tr>\n",
       "      <th>62174</th>\n",
       "      <td>0.150756</td>\n",
       "      <td>1.224745</td>\n",
       "      <td>1.147832</td>\n",
       "      <td>-0.098354</td>\n",
       "      <td>2.42</td>\n",
       "    </tr>\n",
       "    <tr>\n",
       "      <th>62178</th>\n",
       "      <td>-1.356801</td>\n",
       "      <td>1.224745</td>\n",
       "      <td>-0.664534</td>\n",
       "      <td>0.516359</td>\n",
       "      <td>-0.28</td>\n",
       "    </tr>\n",
       "    <tr>\n",
       "      <th>62191</th>\n",
       "      <td>0.150756</td>\n",
       "      <td>-0.816497</td>\n",
       "      <td>0.845771</td>\n",
       "      <td>-0.958952</td>\n",
       "      <td>-0.78</td>\n",
       "    </tr>\n",
       "    <tr>\n",
       "      <th>62215</th>\n",
       "      <td>1.658312</td>\n",
       "      <td>-0.816497</td>\n",
       "      <td>0.241649</td>\n",
       "      <td>1.622842</td>\n",
       "      <td>2.71</td>\n",
       "    </tr>\n",
       "    <tr>\n",
       "      <th>62217</th>\n",
       "      <td>-0.603023</td>\n",
       "      <td>-0.816497</td>\n",
       "      <td>-1.570717</td>\n",
       "      <td>-1.081895</td>\n",
       "      <td>-4.07</td>\n",
       "    </tr>\n",
       "  </tbody>\n",
       "</table>\n",
       "</div>"
      ],
      "text/plain": [
       "       z_CFDCSR  z_CFDCIR  z_CFDAST   z_CFDDS  z_total\n",
       "SEQN                                                  \n",
       "62174  0.150756  1.224745  1.147832 -0.098354     2.42\n",
       "62178 -1.356801  1.224745 -0.664534  0.516359    -0.28\n",
       "62191  0.150756 -0.816497  0.845771 -0.958952    -0.78\n",
       "62215  1.658312 -0.816497  0.241649  1.622842     2.71\n",
       "62217 -0.603023 -0.816497 -1.570717 -1.081895    -4.07"
      ]
     },
     "execution_count": 38,
     "metadata": {},
     "output_type": "execute_result"
    }
   ],
   "source": [
    "norm_df['z_total'] = norm_df.sum(axis=1).round(2)\n",
    "norm_df"
   ]
  },
  {
   "cell_type": "code",
   "execution_count": 40,
   "metadata": {},
   "outputs": [
    {
     "data": {
      "text/html": [
       "<div>\n",
       "<style scoped>\n",
       "    .dataframe tbody tr th:only-of-type {\n",
       "        vertical-align: middle;\n",
       "    }\n",
       "\n",
       "    .dataframe tbody tr th {\n",
       "        vertical-align: top;\n",
       "    }\n",
       "\n",
       "    .dataframe thead th {\n",
       "        text-align: right;\n",
       "    }\n",
       "</style>\n",
       "<table border=\"1\" class=\"dataframe\">\n",
       "  <thead>\n",
       "    <tr style=\"text-align: right;\">\n",
       "      <th></th>\n",
       "      <th>CFDCSR</th>\n",
       "      <th>CFDCIR</th>\n",
       "      <th>CFDAST</th>\n",
       "      <th>CFDDS</th>\n",
       "      <th>z_CFDCSR</th>\n",
       "      <th>z_CFDCIR</th>\n",
       "      <th>z_CFDAST</th>\n",
       "      <th>z_CFDDS</th>\n",
       "      <th>z_total</th>\n",
       "    </tr>\n",
       "    <tr>\n",
       "      <th>SEQN</th>\n",
       "      <th></th>\n",
       "      <th></th>\n",
       "      <th></th>\n",
       "      <th></th>\n",
       "      <th></th>\n",
       "      <th></th>\n",
       "      <th></th>\n",
       "      <th></th>\n",
       "      <th></th>\n",
       "    </tr>\n",
       "  </thead>\n",
       "  <tbody>\n",
       "    <tr>\n",
       "      <th>62174</th>\n",
       "      <td>5.0</td>\n",
       "      <td>1.0</td>\n",
       "      <td>18.0</td>\n",
       "      <td>33.0</td>\n",
       "      <td>0.150756</td>\n",
       "      <td>1.224745</td>\n",
       "      <td>1.147832</td>\n",
       "      <td>-0.098354</td>\n",
       "      <td>2.42</td>\n",
       "    </tr>\n",
       "    <tr>\n",
       "      <th>62178</th>\n",
       "      <td>3.0</td>\n",
       "      <td>1.0</td>\n",
       "      <td>12.0</td>\n",
       "      <td>38.0</td>\n",
       "      <td>-1.356801</td>\n",
       "      <td>1.224745</td>\n",
       "      <td>-0.664534</td>\n",
       "      <td>0.516359</td>\n",
       "      <td>-0.28</td>\n",
       "    </tr>\n",
       "    <tr>\n",
       "      <th>62191</th>\n",
       "      <td>5.0</td>\n",
       "      <td>0.0</td>\n",
       "      <td>17.0</td>\n",
       "      <td>26.0</td>\n",
       "      <td>0.150756</td>\n",
       "      <td>-0.816497</td>\n",
       "      <td>0.845771</td>\n",
       "      <td>-0.958952</td>\n",
       "      <td>-0.78</td>\n",
       "    </tr>\n",
       "    <tr>\n",
       "      <th>62215</th>\n",
       "      <td>7.0</td>\n",
       "      <td>0.0</td>\n",
       "      <td>15.0</td>\n",
       "      <td>47.0</td>\n",
       "      <td>1.658312</td>\n",
       "      <td>-0.816497</td>\n",
       "      <td>0.241649</td>\n",
       "      <td>1.622842</td>\n",
       "      <td>2.71</td>\n",
       "    </tr>\n",
       "    <tr>\n",
       "      <th>62217</th>\n",
       "      <td>4.0</td>\n",
       "      <td>0.0</td>\n",
       "      <td>9.0</td>\n",
       "      <td>25.0</td>\n",
       "      <td>-0.603023</td>\n",
       "      <td>-0.816497</td>\n",
       "      <td>-1.570717</td>\n",
       "      <td>-1.081895</td>\n",
       "      <td>-4.07</td>\n",
       "    </tr>\n",
       "  </tbody>\n",
       "</table>\n",
       "</div>"
      ],
      "text/plain": [
       "       CFDCSR  CFDCIR  CFDAST  CFDDS  z_CFDCSR  z_CFDCIR  z_CFDAST   z_CFDDS  \\\n",
       "SEQN                                                                           \n",
       "62174     5.0     1.0    18.0   33.0  0.150756  1.224745  1.147832 -0.098354   \n",
       "62178     3.0     1.0    12.0   38.0 -1.356801  1.224745 -0.664534  0.516359   \n",
       "62191     5.0     0.0    17.0   26.0  0.150756 -0.816497  0.845771 -0.958952   \n",
       "62215     7.0     0.0    15.0   47.0  1.658312 -0.816497  0.241649  1.622842   \n",
       "62217     4.0     0.0     9.0   25.0 -0.603023 -0.816497 -1.570717 -1.081895   \n",
       "\n",
       "       z_total  \n",
       "SEQN            \n",
       "62174     2.42  \n",
       "62178    -0.28  \n",
       "62191    -0.78  \n",
       "62215     2.71  \n",
       "62217    -4.07  "
      ]
     },
     "execution_count": 40,
     "metadata": {},
     "output_type": "execute_result"
    }
   ],
   "source": [
    "temp_df.merge(norm_df, how='inner', on='SEQN')"
   ]
  },
  {
   "cell_type": "code",
   "execution_count": 42,
   "metadata": {},
   "outputs": [
    {
     "data": {
      "image/png": "[encoded data removed]",
      "text/plain": [
       "<Figure size 432x288 with 1 Axes>"
      ]
     },
     "metadata": {
      "needs_background": "light"
     },
     "output_type": "display_data"
    }
   ],
   "source": [
    "plt.scatter(x=norm_df.z_CFDAST, y=norm_df.z_total)\n",
    "plt.show()"
   ]
  }
 ],
 "metadata": {
  "kernelspec": {
   "display_name": "Python 3",
   "language": "python",
   "name": "python3"
  },
  "language_info": {
   "codemirror_mode": {
    "name": "ipython",
    "version": 3
   },
   "file_extension": ".py",
   "mimetype": "text/x-python",
   "name": "python",
   "nbconvert_exporter": "python",
   "pygments_lexer": "ipython3",
   "version": "3.10.10"
  },
  "orig_nbformat": 4,
  "vscode": {
   "interpreter": {
    "hash": "bd385fe162c5ca0c84973b7dd5c518456272446b2b64e67c2a69f949ca7a1754"
   }
  }
 },
 "nbformat": 4,
 "nbformat_minor": 2
}
