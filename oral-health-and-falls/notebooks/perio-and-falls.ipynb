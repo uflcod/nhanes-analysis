{
 "cells": [
  {
   "cell_type": "markdown",
   "id": "9ac307cc-2374-4a79-a38a-d237f46e9c5e",
   "metadata": {},
   "source": [
    "# Periodontal Health and Falls"
   ]
  },
  {
   "cell_type": "code",
   "execution_count": 1,
   "id": "cebb6dc7-1470-4485-8e67-8a978b8b5ed1",
   "metadata": {},
   "outputs": [],
   "source": [
    "import pandas as pd\n",
    "import numpy as np\n",
    "import seaborn as sns\n",
    "import matplotlib.pyplot as plt"
   ]
  },
  {
   "cell_type": "markdown",
   "id": "6b98b2b3-bdbe-42b9-a2d5-c8eb5be65e18",
   "metadata": {},
   "source": [
    "---"
   ]
  },
  {
   "cell_type": "markdown",
   "id": "f13cd0d7-321f-42ca-a80f-b544ae355eb6",
   "metadata": {},
   "source": [
    "## load merge of oral health and dizziness, falls, and hospitaliztion data"
   ]
  },
  {
   "cell_type": "code",
   "execution_count": 2,
   "id": "75cc2bcd-8b2d-4883-ae8c-8a9adf3fad10",
   "metadata": {},
   "outputs": [
    {
     "data": {
      "text/plain": [
       "(5303, 19)"
      ]
     },
     "execution_count": 2,
     "metadata": {},
     "output_type": "execute_result"
    }
   ],
   "source": [
    "df = pd.read_csv('../data/2003-2004/output/patient_tooth_cal_measurments2.csv')\n",
    "df.shape"
   ]
  },
  {
   "cell_type": "code",
   "execution_count": 3,
   "id": "49fb81db-9b0a-40be-9877-a7af27aed188",
   "metadata": {},
   "outputs": [
    {
     "data": {
      "text/html": [
       "<div>\n",
       "<style scoped>\n",
       "    .dataframe tbody tr th:only-of-type {\n",
       "        vertical-align: middle;\n",
       "    }\n",
       "\n",
       "    .dataframe tbody tr th {\n",
       "        vertical-align: top;\n",
       "    }\n",
       "\n",
       "    .dataframe thead th {\n",
       "        text-align: right;\n",
       "    }\n",
       "</style>\n",
       "<table border=\"1\" class=\"dataframe\">\n",
       "  <thead>\n",
       "    <tr style=\"text-align: right;\">\n",
       "      <th></th>\n",
       "      <th>VAR1</th>\n",
       "      <th>SEQN</th>\n",
       "      <th>RIDAGEYR</th>\n",
       "      <th>RIAGENDR</th>\n",
       "      <th>WTINT2YR</th>\n",
       "      <th>WTMEC2YR</th>\n",
       "      <th>SDMVPSU</th>\n",
       "      <th>SDMVSTRA</th>\n",
       "      <th>num_teeth</th>\n",
       "      <th>num_teeth_gte_3</th>\n",
       "      <th>pct_teeth_gte_3</th>\n",
       "      <th>num_teeth_gte_4</th>\n",
       "      <th>pct_teeth_gte_4</th>\n",
       "      <th>num_teeth_gte_5</th>\n",
       "      <th>pct_teeth_gte_5</th>\n",
       "      <th>BAQ020A</th>\n",
       "      <th>BAQ020B</th>\n",
       "      <th>BAQ020C</th>\n",
       "      <th>HUQ071</th>\n",
       "    </tr>\n",
       "  </thead>\n",
       "  <tbody>\n",
       "    <tr>\n",
       "      <th>0</th>\n",
       "      <td>0</td>\n",
       "      <td>21005</td>\n",
       "      <td>19</td>\n",
       "      <td>Male</td>\n",
       "      <td>5512.320949</td>\n",
       "      <td>5824.782465</td>\n",
       "      <td>2</td>\n",
       "      <td>39</td>\n",
       "      <td>28</td>\n",
       "      <td>0</td>\n",
       "      <td>0.00</td>\n",
       "      <td>0</td>\n",
       "      <td>0.00</td>\n",
       "      <td>0</td>\n",
       "      <td>0.00</td>\n",
       "      <td>NaN</td>\n",
       "      <td>NaN</td>\n",
       "      <td>NaN</td>\n",
       "      <td>2</td>\n",
       "    </tr>\n",
       "    <tr>\n",
       "      <th>1</th>\n",
       "      <td>1</td>\n",
       "      <td>21009</td>\n",
       "      <td>55</td>\n",
       "      <td>Male</td>\n",
       "      <td>97593.678980</td>\n",
       "      <td>97731.727240</td>\n",
       "      <td>2</td>\n",
       "      <td>31</td>\n",
       "      <td>24</td>\n",
       "      <td>0</td>\n",
       "      <td>0.00</td>\n",
       "      <td>0</td>\n",
       "      <td>0.00</td>\n",
       "      <td>0</td>\n",
       "      <td>0.00</td>\n",
       "      <td>NaN</td>\n",
       "      <td>NaN</td>\n",
       "      <td>NaN</td>\n",
       "      <td>2</td>\n",
       "    </tr>\n",
       "    <tr>\n",
       "      <th>2</th>\n",
       "      <td>2</td>\n",
       "      <td>21010</td>\n",
       "      <td>52</td>\n",
       "      <td>Female</td>\n",
       "      <td>39599.362690</td>\n",
       "      <td>43286.576470</td>\n",
       "      <td>1</td>\n",
       "      <td>29</td>\n",
       "      <td>19</td>\n",
       "      <td>4</td>\n",
       "      <td>0.21</td>\n",
       "      <td>3</td>\n",
       "      <td>0.16</td>\n",
       "      <td>1</td>\n",
       "      <td>0.05</td>\n",
       "      <td>2.0</td>\n",
       "      <td>2.0</td>\n",
       "      <td>1.0</td>\n",
       "      <td>2</td>\n",
       "    </tr>\n",
       "    <tr>\n",
       "      <th>3</th>\n",
       "      <td>3</td>\n",
       "      <td>21012</td>\n",
       "      <td>63</td>\n",
       "      <td>Male</td>\n",
       "      <td>12629.440480</td>\n",
       "      <td>12947.338140</td>\n",
       "      <td>2</td>\n",
       "      <td>33</td>\n",
       "      <td>19</td>\n",
       "      <td>10</td>\n",
       "      <td>0.53</td>\n",
       "      <td>10</td>\n",
       "      <td>0.53</td>\n",
       "      <td>7</td>\n",
       "      <td>0.37</td>\n",
       "      <td>2.0</td>\n",
       "      <td>1.0</td>\n",
       "      <td>2.0</td>\n",
       "      <td>2</td>\n",
       "    </tr>\n",
       "    <tr>\n",
       "      <th>4</th>\n",
       "      <td>4</td>\n",
       "      <td>21015</td>\n",
       "      <td>83</td>\n",
       "      <td>Male</td>\n",
       "      <td>17625.875730</td>\n",
       "      <td>19994.159860</td>\n",
       "      <td>2</td>\n",
       "      <td>33</td>\n",
       "      <td>25</td>\n",
       "      <td>0</td>\n",
       "      <td>0.00</td>\n",
       "      <td>0</td>\n",
       "      <td>0.00</td>\n",
       "      <td>0</td>\n",
       "      <td>0.00</td>\n",
       "      <td>2.0</td>\n",
       "      <td>1.0</td>\n",
       "      <td>1.0</td>\n",
       "      <td>2</td>\n",
       "    </tr>\n",
       "  </tbody>\n",
       "</table>\n",
       "</div>"
      ],
      "text/plain": [
       "   VAR1   SEQN  RIDAGEYR RIAGENDR      WTINT2YR      WTMEC2YR  SDMVPSU  \\\n",
       "0     0  21005        19     Male   5512.320949   5824.782465        2   \n",
       "1     1  21009        55     Male  97593.678980  97731.727240        2   \n",
       "2     2  21010        52   Female  39599.362690  43286.576470        1   \n",
       "3     3  21012        63     Male  12629.440480  12947.338140        2   \n",
       "4     4  21015        83     Male  17625.875730  19994.159860        2   \n",
       "\n",
       "   SDMVSTRA  num_teeth  num_teeth_gte_3  pct_teeth_gte_3  num_teeth_gte_4  \\\n",
       "0        39         28                0             0.00                0   \n",
       "1        31         24                0             0.00                0   \n",
       "2        29         19                4             0.21                3   \n",
       "3        33         19               10             0.53               10   \n",
       "4        33         25                0             0.00                0   \n",
       "\n",
       "   pct_teeth_gte_4  num_teeth_gte_5  pct_teeth_gte_5  BAQ020A  BAQ020B  \\\n",
       "0             0.00                0             0.00      NaN      NaN   \n",
       "1             0.00                0             0.00      NaN      NaN   \n",
       "2             0.16                1             0.05      2.0      2.0   \n",
       "3             0.53                7             0.37      2.0      1.0   \n",
       "4             0.00                0             0.00      2.0      1.0   \n",
       "\n",
       "   BAQ020C  HUQ071  \n",
       "0      NaN       2  \n",
       "1      NaN       2  \n",
       "2      1.0       2  \n",
       "3      2.0       2  \n",
       "4      1.0       2  "
      ]
     },
     "execution_count": 3,
     "metadata": {},
     "output_type": "execute_result"
    }
   ],
   "source": [
    "df.head()"
   ]
  },
  {
   "cell_type": "code",
   "execution_count": 4,
   "id": "7aadf66c-bc87-4b6f-9efe-19ed6f34c36e",
   "metadata": {},
   "outputs": [
    {
     "name": "stdout",
     "output_type": "stream",
     "text": [
      "<class 'pandas.core.frame.DataFrame'>\n",
      "RangeIndex: 5303 entries, 0 to 5302\n",
      "Data columns (total 19 columns):\n",
      " #   Column           Non-Null Count  Dtype  \n",
      "---  ------           --------------  -----  \n",
      " 0   VAR1             5303 non-null   int64  \n",
      " 1   SEQN             5303 non-null   int64  \n",
      " 2   RIDAGEYR         5303 non-null   int64  \n",
      " 3   RIAGENDR         5303 non-null   object \n",
      " 4   WTINT2YR         5303 non-null   float64\n",
      " 5   WTMEC2YR         5303 non-null   float64\n",
      " 6   SDMVPSU          5303 non-null   int64  \n",
      " 7   SDMVSTRA         5303 non-null   int64  \n",
      " 8   num_teeth        5303 non-null   int64  \n",
      " 9   num_teeth_gte_3  5303 non-null   int64  \n",
      " 10  pct_teeth_gte_3  5303 non-null   float64\n",
      " 11  num_teeth_gte_4  5303 non-null   int64  \n",
      " 12  pct_teeth_gte_4  5303 non-null   float64\n",
      " 13  num_teeth_gte_5  5303 non-null   int64  \n",
      " 14  pct_teeth_gte_5  5303 non-null   float64\n",
      " 15  BAQ020A          861 non-null    float64\n",
      " 16  BAQ020B          861 non-null    float64\n",
      " 17  BAQ020C          861 non-null    float64\n",
      " 18  HUQ071           5303 non-null   int64  \n",
      "dtypes: float64(8), int64(10), object(1)\n",
      "memory usage: 787.3+ KB\n"
     ]
    }
   ],
   "source": [
    "df.info()"
   ]
  },
  {
   "cell_type": "markdown",
   "id": "318a6759-3fec-4d7d-adfc-58a63c010870",
   "metadata": {},
   "source": [
    "## plot results"
   ]
  },
  {
   "cell_type": "markdown",
   "id": "cb6c2adb-0da4-4d6b-b8e0-54968c1d1a17",
   "metadata": {},
   "source": [
    "**help function for determining age groups**"
   ]
  },
  {
   "cell_type": "code",
   "execution_count": 5,
   "id": "72f665dd-f9b2-466b-8768-e455a1720280",
   "metadata": {},
   "outputs": [],
   "source": [
    "def get_age_group(age):\n",
    "    age_group = ''\n",
    "    if age >= 18 and age <= 25:\n",
    "        age_group = '18-25'\n",
    "    elif age >= 26 and age <= 35:\n",
    "        age_group = '26-35'\n",
    "    elif age >= 36 and age <= 45:\n",
    "        age_group = '36-45'\n",
    "    elif age >= 46 and age <= 55:\n",
    "        age_group = '46-55'\n",
    "    elif age >= 56 and age <= 65:\n",
    "        age_group = '56-65'\n",
    "    elif age >= 66 and age <= 75:\n",
    "        age_group = '66-75'\n",
    "    else:\n",
    "        age_group = '76+'\n",
    "    \n",
    "    return age_group\n",
    "\n",
    "def get_percent_group(percent):\n",
    "    percent_group = ''\n",
    "    \n",
    "    if percent >= 0.0 and  percent <=0.10:\n",
    "        percent_group = '0-10'\n",
    "    elif percent >=0.11 and percent <= 0.20:\n",
    "        percent_group = '11-20'\n",
    "    elif percent > 0.21 and percent <= 0.30:\n",
    "        percent_group = '21-30'\n",
    "    elif percent >= 0.31 and percent <=0.40:\n",
    "        percent_group = '31-40'\n",
    "    elif percent >= 0.41 and percent <=0.50:\n",
    "        percent_group = '41-50'\n",
    "    elif percent >= 0.51 and percent <=0.60:\n",
    "        percent_group = '51-60'\n",
    "    elif percent >= 0.61 and percent <=0.70:\n",
    "        percent_group = '61-70'\n",
    "    elif percent >= 0.71 and percent <=0.80:\n",
    "        percent_group = '71-80'\n",
    "    elif percent >= 0.81 and percent <=0.90:\n",
    "        percent_group = '81-90'\n",
    "    else:\n",
    "        percent_group = '90+'\n",
    "\n",
    "    return percent_group"
   ]
  },
  {
   "cell_type": "markdown",
   "id": "c973c206-2bf6-403c-89d7-e5b8bfb9548f",
   "metadata": {},
   "source": [
    "### default figure settings"
   ]
  },
  {
   "cell_type": "code",
   "execution_count": 6,
   "id": "59d6a913-0791-45b9-9afc-6437f0aff405",
   "metadata": {},
   "outputs": [],
   "source": [
    "%matplotlib inline\n",
    "sns.set_theme(\n",
    "    context='notebook', style='darkgrid', palette='deep', font='sans-serif', font_scale=1, color_codes=True, rc=None\n",
    ")"
   ]
  },
  {
   "cell_type": "markdown",
   "id": "2488863f-dec9-4a58-8754-8e3e10574992",
   "metadata": {},
   "source": [
    "## standardize variables  \n",
    "\n",
    "BAQ020A       Dizziness problems in past year  \n",
    "BAQ020B       Balance problems in past year  \n",
    "BAQ020C       Falling problems in past year  \n",
    "HUQ071        Overnight hospital patient in last year  \n",
    "\n",
    "Set 1=yes, (not 1)=0  \n",
    "Note: value counts where checked before doing this. There was a handfule of value 9=\"I don't know\", but setting those to 0.\n",
    "\n",
    "BAQ020A had 0 values of 9.  \n",
    "BAQ020C had 1 values of 9.  \n",
    "BAQ020C had 0 values of 9.  \n",
    "HUQ071 had 4 values of 9.  "
   ]
  },
  {
   "cell_type": "code",
   "execution_count": 7,
   "id": "3ab45205-4941-41aa-a065-72fc529ea483",
   "metadata": {},
   "outputs": [],
   "source": [
    "plot_df = df.copy() # copy original dataframe"
   ]
  },
  {
   "cell_type": "code",
   "execution_count": 8,
   "id": "d35f7054-50bb-4091-a005-1d5e41fc7b1f",
   "metadata": {},
   "outputs": [],
   "source": [
    "plot_df.BAQ020A = np.where(plot_df.BAQ020A==1, 1, 0)\n",
    "plot_df.BAQ020B = np.where(plot_df.BAQ020B==1, 1, 0)\n",
    "plot_df.BAQ020C = np.where(plot_df.BAQ020C==1, 1, 0)\n",
    "plot_df.HUQ071 = np.where(plot_df.HUQ071==1, 1, 0)"
   ]
  },
  {
   "cell_type": "code",
   "execution_count": 9,
   "id": "30048fce-19f0-41b2-b040-0836401d2f9e",
   "metadata": {},
   "outputs": [],
   "source": [
    "plot_df = plot_df.rename(\n",
    "    columns={\n",
    "        'RIDAGEYR':'age', \n",
    "        'RIAGENDR': 'gender', \n",
    "        'num_teeth_gte_3':\n",
    "        '# CAL >= 3', \n",
    "        'pct_teeth_gte_3': \n",
    "        '% CAL >= 3',\n",
    "        'num_teeth_gte_4':\n",
    "        '# CAL >= 4', \n",
    "        'pct_teeth_gte_4': \n",
    "        '% CAL >= 4',\n",
    "        'num_teeth_gte_5':\n",
    "        '# CAL >= 5', \n",
    "        'pct_teeth_gte_5': \n",
    "        '% CAL >= 5',\n",
    "        'BAQ020A': 'dizziness past year',\n",
    "        'BAQ020B': 'balance past year',\n",
    "        'BAQ020C': 'falling past year',\n",
    "        'HUQ071': 'hospital past year'\n",
    "    }\n",
    ")\n",
    "plot_df['age group'] = plot_df['age'].map(get_age_group)\n",
    "plot_df['pct CAL >= 3'] = plot_df['% CAL >= 3'].map(get_percent_group)\n",
    "plot_df['pct CAL >= 4'] = plot_df['% CAL >= 4'].map(get_percent_group)\n",
    "plot_df['pct CAL >= 5'] = plot_df['% CAL >= 5'].map(get_percent_group)"
   ]
  },
  {
   "cell_type": "code",
   "execution_count": 10,
   "id": "dd9a7fd2-6dcb-4b3d-8e2f-d0abe8b36219",
   "metadata": {},
   "outputs": [
    {
     "data": {
      "text/plain": [
       "pct CAL >= 4\n",
       "0-10     4923\n",
       "11-20     174\n",
       "21-30      77\n",
       "31-40      65\n",
       "41-50      39\n",
       "90+        13\n",
       "51-60      11\n",
       "61-70       1\n",
       "Name: count, dtype: int64"
      ]
     },
     "execution_count": 10,
     "metadata": {},
     "output_type": "execute_result"
    }
   ],
   "source": [
    "plot_df['pct CAL >= 4'].value_counts()"
   ]
  },
  {
   "cell_type": "markdown",
   "id": "11709abc-514b-472a-bc69-5ddda0b0659e",
   "metadata": {},
   "source": [
    "## explore data"
   ]
  },
  {
   "cell_type": "code",
   "execution_count": 11,
   "id": "e63a31e0-dc0e-4d7f-8a09-09e218a4d2c0",
   "metadata": {},
   "outputs": [
    {
     "ename": "NameError",
     "evalue": "name 'order_' is not defined",
     "output_type": "error",
     "traceback": [
      "\u001b[0;31m---------------------------------------------------------------------------\u001b[0m",
      "\u001b[0;31mNameError\u001b[0m                                 Traceback (most recent call last)",
      "Cell \u001b[0;32mIn[11], line 7\u001b[0m\n\u001b[1;32m      3\u001b[0m \u001b[38;5;66;03m# age_order_ = ['76+', '66-75', '56-65', '46-55', '36-45', '26-35', '18-25'] \u001b[39;00m\n\u001b[1;32m      4\u001b[0m \u001b[38;5;66;03m# age_order_ = ['18-25', '26-35','36-45','46-55','56-65', '66-75', '76+']\u001b[39;00m\n\u001b[1;32m      5\u001b[0m age_order \u001b[38;5;241m=\u001b[39m [\u001b[38;5;124m'\u001b[39m\u001b[38;5;124m36-45\u001b[39m\u001b[38;5;124m'\u001b[39m,\u001b[38;5;124m'\u001b[39m\u001b[38;5;124m46-55\u001b[39m\u001b[38;5;124m'\u001b[39m,\u001b[38;5;124m'\u001b[39m\u001b[38;5;124m56-65\u001b[39m\u001b[38;5;124m'\u001b[39m, \u001b[38;5;124m'\u001b[39m\u001b[38;5;124m66-75\u001b[39m\u001b[38;5;124m'\u001b[39m, \u001b[38;5;124m'\u001b[39m\u001b[38;5;124m76+\u001b[39m\u001b[38;5;124m'\u001b[39m]\n\u001b[0;32m----> 7\u001b[0m sns\u001b[38;5;241m.\u001b[39mbarplot(data\u001b[38;5;241m=\u001b[39mplot_df[plot_df\u001b[38;5;241m.\u001b[39mage \u001b[38;5;241m>\u001b[39m \u001b[38;5;241m35\u001b[39m], x\u001b[38;5;241m=\u001b[39m\u001b[38;5;124m'\u001b[39m\u001b[38;5;124mage group\u001b[39m\u001b[38;5;124m'\u001b[39m, y\u001b[38;5;241m=\u001b[39m\u001b[38;5;124m'\u001b[39m\u001b[38;5;124mfalling past year\u001b[39m\u001b[38;5;124m'\u001b[39m, order\u001b[38;5;241m=\u001b[39m\u001b[43morder_\u001b[49m, errorbar\u001b[38;5;241m=\u001b[39m\u001b[38;5;28;01mNone\u001b[39;00m, hue\u001b[38;5;241m=\u001b[39m\u001b[38;5;124m'\u001b[39m\u001b[38;5;124mgender\u001b[39m\u001b[38;5;124m'\u001b[39m, estimator\u001b[38;5;241m=\u001b[39m\u001b[38;5;124m'\u001b[39m\u001b[38;5;124mmean\u001b[39m\u001b[38;5;124m'\u001b[39m)\n\u001b[1;32m      8\u001b[0m plt\u001b[38;5;241m.\u001b[39mshow()\n",
      "\u001b[0;31mNameError\u001b[0m: name 'order_' is not defined"
     ]
    },
    {
     "data": {
      "text/plain": [
       "<Figure size 800x300 with 0 Axes>"
      ]
     },
     "metadata": {},
     "output_type": "display_data"
    }
   ],
   "source": [
    "plt.figure(figsize=(8,3))\n",
    "\n",
    "# age_order_ = ['76+', '66-75', '56-65', '46-55', '36-45', '26-35', '18-25'] \n",
    "# age_order_ = ['18-25', '26-35','36-45','46-55','56-65', '66-75', '76+']\n",
    "age_order = ['36-45','46-55','56-65', '66-75', '76+']\n",
    "\n",
    "sns.barplot(data=plot_df[plot_df.age > 35], x='age group', y='falling past year', order=order_, errorbar=None, hue='gender', estimator='mean')\n",
    "plt.show()"
   ]
  },
  {
   "cell_type": "code",
   "execution_count": null,
   "id": "376ca145-cc66-4846-a0b0-a6e6954d1692",
   "metadata": {},
   "outputs": [],
   "source": [
    "plt.figure(figsize=(8,3))\n",
    "pct_order = ['0-10','11-20','21-30','31-40','41-50','51-60','61-70','71-80','81-90','90+']\n",
    "\n",
    "sns.barplot(\n",
    "    data=plot_df[plot_df.age > 35], \n",
    "    x='pct CAL >= 3', y='falling past year', \n",
    "    order=pct_order, \n",
    "    errorbar=None, \n",
    "    hue='gender', \n",
    "    estimator='sum'\n",
    ")\n",
    "plt.show()"
   ]
  },
  {
   "cell_type": "code",
   "execution_count": null,
   "id": "68ff9118-1679-4fa0-9ee9-35a9bbca91b1",
   "metadata": {},
   "outputs": [],
   "source": [
    "plt.figure(figsize=(8,3))\n",
    "\n",
    "# age_order_ = ['18-25', '26-35','36-45','46-55','56-65', '66-75', '76+']\n",
    "age_order = ['36-45','46-55','56-65', '66-75', '76+']\n",
    "\n",
    "sns.barplot(data=plot_df[plot_df.age > 35], x='age group', y='dizziness past year', order=age_order, errorbar=None, hue='gender', estimator='mean')\n",
    "plt.show()"
   ]
  },
  {
   "cell_type": "code",
   "execution_count": null,
   "id": "b48fd008-affb-4a10-8fe0-27382352ae9f",
   "metadata": {},
   "outputs": [],
   "source": [
    "plt.figure(figsize=(8,3))\n",
    "\n",
    "# age_order_ = ['18-25', '26-35','36-45','46-55','56-65', '66-75', '76+']\n",
    "age_order = ['36-45','46-55','56-65', '66-75', '76+']\n",
    "\n",
    "sns.barplot(data=plot_df[plot_df.age > 35], x='age group', y='balance past year', order=age_order, errorbar=None, hue='gender', estimator='mean')\n",
    "plt.show()"
   ]
  },
  {
   "cell_type": "code",
   "execution_count": null,
   "id": "485f75ad-e462-4de5-be91-99329ec3250e",
   "metadata": {},
   "outputs": [],
   "source": [
    "plt.figure(figsize=(8,3))\n",
    "\n",
    "# age_order_ = ['18-25', '26-35','36-45','46-55','56-65', '66-75', '76+']\n",
    "age_order = ['36-45','46-55','56-65', '66-75', '76+']\n",
    "\n",
    "sns.barplot(data=plot_df[plot_df.age > 35], x='age group', y='hospital past year', order=age_order, errorbar=None, hue='gender', estimator='mean')\n",
    "plt.show()"
   ]
  },
  {
   "cell_type": "code",
   "execution_count": null,
   "id": "c0b19fc0-faa4-4a32-9c09-1cd00e709419",
   "metadata": {},
   "outputs": [],
   "source": [
    "plt.figure(figsize=(8,3))\n",
    "\n",
    "sns.barplot(data=plot_df, y='% CAL >= 3', x='falling past year', errorbar=None, hue='gender', estimator='mean')\n",
    "plt.show()"
   ]
  },
  {
   "cell_type": "code",
   "execution_count": null,
   "id": "4dabea84-51f2-48f7-ae62-5cd58c98fd52",
   "metadata": {},
   "outputs": [],
   "source": [
    "# age_order = ['18-25', '26-35','36-45','46-55','56-65', '66-75', '76+']\n",
    "age_order = ['46-55','56-65', '66-75', '76+']\n",
    "\n",
    "\n",
    "fig, axs = plt.subplots(1, 3, figsize=(14, 3), sharex=True, sharey=True, tight_layout=True)\n",
    "\n",
    "sns.barplot(data=plot_df, y='% CAL >= 3', x='falling past year', errorbar=None, hue='gender', estimator='mean', ax=axs[0])\n",
    "axs[0].set_title('% Teeth with CAL >= 3')\n",
    "axs[0].legend().set_visible(False)\n",
    "\n",
    "sns.barplot(data=plot_df, y='% CAL >= 4', x='falling past year', errorbar=None, hue='gender', estimator='mean', ax=axs[1])\n",
    "axs[1].set_title('% Teeth with CAL >= 4')\n",
    "\n",
    "sns.barplot(data=plot_df, y='% CAL >= 5', x='falling past year', errorbar=None, hue='gender', estimator='mean', ax=axs[2])\n",
    "axs[2].set_title('% Teeth with CAL >= 5')\n",
    "axs[2].legend().set_visible(False)\n",
    "\n",
    "axs[0].set_ylabel('percent')\n",
    "\n",
    "plt.savefig('../figures/falling-past-year-by-percent-CAL.png', dpi=600)\n",
    "plt.show()"
   ]
  },
  {
   "cell_type": "code",
   "execution_count": null,
   "id": "3c6d32c7-45ab-42f9-b95e-4ed0fc4d94e5",
   "metadata": {},
   "outputs": [],
   "source": [
    "# age_order = ['18-25', '26-35','36-45','46-55','56-65', '66-75', '76+']\n",
    "age_order = ['46-55','56-65', '66-75', '76+']\n",
    "temp_df = plot_df[plot_df['age group'].isin(age_order)]\n",
    "\n",
    "fig, axs = plt.subplots(1, 3, figsize=(14, 3), sharex=True, sharey=True, tight_layout=True)\n",
    "\n",
    "sns.barplot(\n",
    "    data=temp_df, y='% CAL >= 3', x='falling past year', errorbar=None, hue='age group', estimator='mean', ax=axs[0], hue_order=age_order\n",
    ")\n",
    "axs[0].set_title('% Teeth with CAL >= 3')\n",
    "axs[0].legend().set_visible(False)\n",
    "\n",
    "sns.barplot(\n",
    "    data=temp_df, y='% CAL >= 4', x='falling past year', errorbar=None, hue='age group', estimator='mean', ax=axs[1], hue_order=age_order\n",
    ")\n",
    "axs[1].set_title('% Teeth with CAL >= 4')\n",
    "\n",
    "sns.barplot(\n",
    "    data=temp_df, y='% CAL >= 5', x='falling past year', errorbar=None, hue='age group', estimator='mean', ax=axs[2], hue_order=age_order\n",
    ")\n",
    "axs[2].set_title('% Teeth with CAL >= 5')\n",
    "axs[2].legend().set_visible(False)\n",
    "\n",
    "axs[0].set_ylabel('percent')\n",
    "\n",
    "plt.savefig('../figures/falling-past-year-by-percent-CAL-age-groups.png', dpi=600)\n",
    "plt.show()"
   ]
  },
  {
   "cell_type": "code",
   "execution_count": null,
   "id": "03013b67-43a9-4033-8785-e6edbe3cbf2f",
   "metadata": {},
   "outputs": [],
   "source": [
    "# Look at Males\n",
    "\n",
    "# age_order = ['18-25', '26-35','36-45','46-55','56-65', '66-75', '76+']\n",
    "age_order = ['46-55','56-65', '66-75', '76+']\n",
    "temp_df = plot_df[(plot_df['age group'].isin(age_order)) & (plot_df.gender=='Male')] # subset to Male\n",
    "\n",
    "fig, axs = plt.subplots(1, 3, figsize=(14, 3), sharex=True, sharey=True, tight_layout=True)\n",
    "\n",
    "sns.barplot(\n",
    "    data=temp_df, y='% CAL >= 3', x='falling past year', errorbar=None, hue='age group', estimator='mean', ax=axs[0], hue_order=age_order\n",
    ")\n",
    "axs[0].set_title('Males % Teeth with CAL >= 3')\n",
    "axs[0].legend().set_visible(False)\n",
    "\n",
    "sns.barplot(\n",
    "    data=temp_df, y='% CAL >= 4', x='falling past year', errorbar=None, hue='age group', estimator='mean', ax=axs[1], hue_order=age_order\n",
    ")\n",
    "axs[1].set_title('Males % Teeth with CAL >= 4')\n",
    "axs[1].legend().set_visible(False)\n",
    "\n",
    "sns.barplot(\n",
    "    data=temp_df, y='% CAL >= 5', x='falling past year', errorbar=None, hue='age group', estimator='mean', ax=axs[2], hue_order=age_order\n",
    ")\n",
    "axs[2].set_title('Males % Teeth with CAL >= 5')\n",
    "\n",
    "axs[0].set_ylabel('percent')\n",
    "\n",
    "plt.savefig('../figures/falling-past-year-by-percent-CAL-age-groups-males.png', dpi=600)\n",
    "plt.show()"
   ]
  },
  {
   "cell_type": "code",
   "execution_count": null,
   "id": "caeb13db-bbff-4d2a-8c71-7ae2605958b2",
   "metadata": {},
   "outputs": [],
   "source": [
    "# Look at Females\n",
    "\n",
    "# age_order = ['18-25', '26-35','36-45','46-55','56-65', '66-75', '76+']\n",
    "age_order = ['46-55','56-65', '66-75', '76+']\n",
    "temp_df = plot_df[(plot_df['age group'].isin(age_order)) & (plot_df.gender=='Female')] # subset to Female\n",
    "\n",
    "fig, axs = plt.subplots(1, 3, figsize=(14, 3), sharex=True, sharey=True, tight_layout=True)\n",
    "\n",
    "sns.barplot(\n",
    "    data=temp_df, y='% CAL >= 3', x='falling past year', errorbar=None, hue='age group', estimator='mean', ax=axs[0], hue_order=age_order\n",
    ")\n",
    "axs[0].set_title('Females % Teeth with CAL >= 3')\n",
    "axs[0].legend().set_visible(False)\n",
    "\n",
    "sns.barplot(\n",
    "    data=temp_df, y='% CAL >= 4', x='falling past year', errorbar=None, hue='age group', estimator='mean', ax=axs[1], hue_order=age_order\n",
    ")\n",
    "axs[1].set_title('Females % Teeth with CAL >= 4')\n",
    "axs[1].legend().set_visible(False)\n",
    "\n",
    "sns.barplot(\n",
    "    data=temp_df, y='% CAL >= 5', x='falling past year', errorbar=None, hue='age group', estimator='mean', ax=axs[2], hue_order=age_order\n",
    ")\n",
    "axs[2].set_title('Females % Teeth with CAL >= 5')\n",
    "# axs[2].legend().set_visible(False)\n",
    "\n",
    "axs[0].set_ylabel('percent')\n",
    "\n",
    "plt.savefig('../figures/falling-past-year-by-percent-CAL-age-groups-females.png', dpi=600)\n",
    "plt.show()"
   ]
  },
  {
   "cell_type": "code",
   "execution_count": null,
   "id": "ce4ee13c-4858-49be-8393-532a351b27df",
   "metadata": {},
   "outputs": [],
   "source": [
    "# age_order = ['76+', '66-75', '56-65', '46-55', '36-45', '26-35', '18-25'] \n",
    "# age_order = ['18-25', '26-35','36-45','46-55','56-65', '66-75', '76+']\n",
    "age_order = ['46-55','56-65', '66-75', '76+']\n",
    "\n",
    "\n",
    "fig, axs = plt.subplots(1, 3, figsize=(14, 3), sharex=True, sharey=True, tight_layout=True)\n",
    "\n",
    "sns.barplot(\n",
    "    data=plot_df[plot_df.age > 45], x='age group', y='% CAL >= 3', order=age_order, errorbar=None, hue='gender', estimator='mean', ax=axs[0]\n",
    ")\n",
    "axs[0].set_title('% Teeth with CAL >= 3')\n",
    "axs[0].legend().set_visible(False)\n",
    "\n",
    "sns.barplot(\n",
    "    data=plot_df[plot_df.age > 45], x='age group', y='% CAL >= 4', order=age_order, errorbar=None, hue='gender', estimator='mean', ax=axs[1]\n",
    ")\n",
    "axs[1].set_title('% Teeth with CAL >= 4')\n",
    "\n",
    "sns.barplot(\n",
    "    data=plot_df[plot_df.age > 45], x='age group', y='% CAL >= 5', order=age_order, errorbar=None, hue='gender', estimator='mean', ax=axs[2]\n",
    ")\n",
    "axs[2].set_title('% Teeth with CAL >= 5')\n",
    "axs[2].legend().set_visible(False)\n",
    "\n",
    "axs[0].set_xlabel('age group')\n",
    "axs[1].set_xlabel('age group')\n",
    "axs[2].set_xlabel('age group')\n",
    "\n",
    "axs[0].set_ylabel('percent')\n",
    "\n",
    "plt.show()"
   ]
  },
  {
   "cell_type": "code",
   "execution_count": null,
   "id": "c23f9d85-6178-4ca9-b1a6-60f7dcf0de0b",
   "metadata": {},
   "outputs": [],
   "source": [
    "glue = sns.load_dataset(\"glue\")"
   ]
  },
  {
   "cell_type": "code",
   "execution_count": null,
   "id": "a13df6ae-525e-46e5-8134-276ef5745e75",
   "metadata": {},
   "outputs": [],
   "source": [
    "glue.head()"
   ]
  },
  {
   "cell_type": "code",
   "execution_count": null,
   "id": "cf6a6bb1-da76-42f5-b460-edb2700efe41",
   "metadata": {},
   "outputs": [],
   "source": [
    "glue.pivot(index=\"Model\", columns=\"Task\", values=\"Score\")"
   ]
  },
  {
   "cell_type": "code",
   "execution_count": null,
   "id": "8b15683f-925f-450b-8519-6aae66daa8a7",
   "metadata": {},
   "outputs": [],
   "source": [
    "plot_df.melt(id_vars=['pct CAL >= 3','pct CAL >= 4','pct CAL >= 5'], value_vars=['% CAL >= 3', '% CAL >= 4', '% CAL >= 5'])"
   ]
  },
  {
   "cell_type": "code",
   "execution_count": null,
   "id": "f9646195-cbe7-45d0-add8-0d21d31a55b0",
   "metadata": {},
   "outputs": [],
   "source": [
    "# plot_df.pivot_table(index=['pct CAL >= 3','pct CAL >= 4','pct CAL >= 5'], values=['% CAL >= 3', '% CAL >= 4', '% CAL >= 5'])"
   ]
  },
  {
   "cell_type": "code",
   "execution_count": null,
   "id": "e536aed3-4ead-46b5-bc69-1214fc0293c2",
   "metadata": {},
   "outputs": [],
   "source": [
    "# temp_df = [plot_df[['pct CAL >= 3', '% CAL >= 3']].head(), plot_df[['pct CAL >= 4', '% CAL >= 4']].head()]\n",
    "temp_df = [\n",
    "    plot_df[['pct CAL >= 3', 'falling past year']].head().rename(columns={'pct CAL >= 3':'pct CAL'}),\n",
    "    plot_df[['pct CAL >= 4', 'falling past year']].head().rename(columns={'pct CAL >= 4':'pct CAL'})\n",
    "]"
   ]
  },
  {
   "cell_type": "code",
   "execution_count": null,
   "id": "9c7afacb-45ae-4e6b-8333-e99fc2b99f14",
   "metadata": {},
   "outputs": [],
   "source": [
    "pd.concat(temp_df, axis=0, ignore_index=False)"
   ]
  },
  {
   "cell_type": "code",
   "execution_count": null,
   "id": "dd804d74-7d8e-42b9-8858-c62479baad1a",
   "metadata": {},
   "outputs": [],
   "source": [
    "groups = (\n",
    "    plot_df[['age group', 'pct CAL >= 3', 'falling past year']]\n",
    "    .groupby(['age group', 'pct CAL >= 3'], as_index=False)\n",
    "    ['falling past year']\n",
    "    .sum()\n",
    ")\n",
    "temp_df = pd.DataFrame(groups)\n",
    "temp_df"
   ]
  },
  {
   "cell_type": "code",
   "execution_count": null,
   "id": "28340828-6a05-4ecb-b230-8ae1866065ea",
   "metadata": {},
   "outputs": [],
   "source": [
    "temp_df2 = plot_df[['age group', 'pct CAL >= 3', 'falling past year']].head(100)\n",
    "temp_df2[(temp_df2['age group'] == '66-75') & (temp_df2['falling past year'] > 0)]"
   ]
  },
  {
   "cell_type": "code",
   "execution_count": null,
   "id": "126dee95-d584-4cf8-a098-14d75f5d2b0e",
   "metadata": {},
   "outputs": [],
   "source": [
    "temp_df.pivot(index=\"age group\", columns=\"pct CAL >= 3\", values=\"falling past year\")"
   ]
  },
  {
   "cell_type": "code",
   "execution_count": null,
   "id": "53a7fe04-b297-4c1a-83e2-f627538fc803",
   "metadata": {},
   "outputs": [],
   "source": [
    "# pct_order = ['0-10','11-20','21-30','31-40','41-50','51-60','61-70','71-80','81-90','90+']\n",
    "pct_order = ['0-10','11-20','21-30','31-40','41-50']\n",
    "# pct_order = ['41-50','31-40','21-30','11-20','0-10']\n",
    "age_order = ['36-45','46-55','56-65', '66-75', '76+']\n",
    "\n",
    "pct_cal = 'pct CAL >= 5'\n",
    "groups = (\n",
    "    plot_df[['age group', pct_cal, 'falling past year']][plot_df['age group'].isin(age_order) & plot_df[pct_cal].isin(pct_order)]\n",
    "    .groupby(['age group', pct_cal], as_index=False)\n",
    "    ['falling past year']\n",
    "    .sum()\n",
    ")\n",
    "temp_df = pd.DataFrame(groups)\n",
    "\n",
    "pivot_df = temp_df.pivot(index=pct_cal, columns=\"age group\", values=\"falling past year\").fillna(0)\n",
    "sns.heatmap(\n",
    "    pivot_df,\n",
    "    cmap=\"Spectral\",\n",
    "    annot=True,\n",
    "    linewidth=.5\n",
    ")"
   ]
  },
  {
   "cell_type": "code",
   "execution_count": null,
   "id": "5e986f62-a46c-4c01-bc45-2afe64b0319d",
   "metadata": {},
   "outputs": [],
   "source": [
    "df.RIAGENDR.value_counts()"
   ]
  },
  {
   "cell_type": "code",
   "execution_count": null,
   "id": "e1840bfa-26e1-426e-b8ea-2f7f77ca9fe0",
   "metadata": {},
   "outputs": [],
   "source": []
  }
 ],
 "metadata": {
  "kernelspec": {
   "display_name": "Python 3 (ipykernel)",
   "language": "python",
   "name": "python3"
  },
  "language_info": {
   "codemirror_mode": {
    "name": "ipython",
    "version": 3
   },
   "file_extension": ".py",
   "mimetype": "text/x-python",
   "name": "python",
   "nbconvert_exporter": "python",
   "pygments_lexer": "ipython3",
   "version": "3.11.11"
  }
 },
 "nbformat": 4,
 "nbformat_minor": 5
}
