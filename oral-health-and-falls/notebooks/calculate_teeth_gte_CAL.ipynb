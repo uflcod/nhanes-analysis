{
 "cells": [
  {
   "cell_type": "markdown",
   "id": "9ac307cc-2374-4a79-a38a-d237f46e9c5e",
   "metadata": {},
   "source": [
    "# Oral Health Exploration"
   ]
  },
  {
   "cell_type": "code",
   "execution_count": 1,
   "id": "cebb6dc7-1470-4485-8e67-8a978b8b5ed1",
   "metadata": {},
   "outputs": [],
   "source": [
    "import pandas as pd\n",
    "import numpy as np\n",
    "import seaborn as sns\n",
    "import matplotlib.pyplot as plt\n",
    "import itertools\n",
    "import re"
   ]
  },
  {
   "cell_type": "markdown",
   "id": "6b98b2b3-bdbe-42b9-a2d5-c8eb5be65e18",
   "metadata": {},
   "source": [
    "---"
   ]
  },
  {
   "cell_type": "markdown",
   "id": "f13cd0d7-321f-42ca-a80f-b544ae355eb6",
   "metadata": {},
   "source": [
    "## load NHANES data tables"
   ]
  },
  {
   "cell_type": "code",
   "execution_count": 2,
   "id": "d16d9049-d6e9-4f61-9e10-eef6e80c1e26",
   "metadata": {},
   "outputs": [],
   "source": [
    "DEMO_C = pd.read_table('../data/2003-2004/DEMO_C_demographics.tsv')\n",
    "OHXDEN_C = pd.read_table('../data/2003-2004/OHXDEN_C_dentition_exam.tsv')\n",
    "OHXPRL_C = pd.read_table('../data/2003-2004/OHXPRL_C_perio-lower_exam.tsv')\n",
    "OHXPRU_C = pd.read_table('../data/2003-2004/OHXPRU_C_perio-upper_exam.tsv')"
   ]
  },
  {
   "cell_type": "code",
   "execution_count": 3,
   "id": "abcfa970-760a-42ee-8515-6ef8db7e8238",
   "metadata": {},
   "outputs": [
    {
     "name": "stdout",
     "output_type": "stream",
     "text": [
      "DEMO_C.shape (demographics): (10122, 44)\n",
      "OHXDEN_C.shape (dentition): (8847, 149)\n",
      "OHXPRL_C.shape (lower perio): (6718, 171)\n",
      "OHXPRU_C.shape (upper perio): (6718, 171)\n"
     ]
    }
   ],
   "source": [
    "print('DEMO_C.shape (demographics):', DEMO_C.shape)\n",
    "print('OHXDEN_C.shape (dentition):', OHXDEN_C.shape)\n",
    "print('OHXPRL_C.shape (lower perio):', OHXPRL_C.shape)\n",
    "print('OHXPRU_C.shape (upper perio):', OHXPRU_C.shape)"
   ]
  },
  {
   "cell_type": "markdown",
   "id": "c0a793e5-c0af-4ba2-8944-beb9fa58f24b",
   "metadata": {},
   "source": [
    "---"
   ]
  },
  {
   "cell_type": "markdown",
   "id": "a76b5f45-219c-457a-a232-c23ba58578d6",
   "metadata": {},
   "source": [
    "## get tooth columns and loss attachement columns from dentition and perio (lower and upper) tables  \n",
    "These columns will be used for subsetting the data (below)"
   ]
  },
  {
   "cell_type": "code",
   "execution_count": 4,
   "id": "357adcae-873f-43b7-9e74-6f1fa34a63a4",
   "metadata": {},
   "outputs": [
    {
     "data": {
      "text/plain": [
       "(['OHX08TC', 'OHX07TC', 'OHX06TC', 'OHX05TC', 'OHX04TC'],\n",
       " ['OHX28TC', 'OHX29TC', 'OHX30TC', 'OHX31TC', 'OHX32TC'])"
      ]
     },
     "execution_count": 4,
     "metadata": {},
     "output_type": "execute_result"
    }
   ],
   "source": [
    "dent_tooth_regex = re.compile(\n",
    "    r'OHX[0-9]{2}TC'\n",
    ")\n",
    "temp = map(\n",
    "        lambda x: \n",
    "            dent_tooth_regex.match(x).group() if dent_tooth_regex.match(x) else None, \n",
    "            OHXDEN_C.columns   \n",
    "        )\n",
    "dentition_tooth_cols = [x for x in temp if x is not None]\n",
    "(dentition_tooth_cols[:5], dentition_tooth_cols[-5:]) # check head and tail of list"
   ]
  },
  {
   "cell_type": "code",
   "execution_count": 5,
   "id": "8c5d9d71-f2b8-432b-b665-6eb09ab6d854",
   "metadata": {},
   "outputs": [
    {
     "name": "stdout",
     "output_type": "stream",
     "text": [
      "number of lower perio cols: 42\n"
     ]
    },
    {
     "data": {
      "text/plain": [
       "(['OHD18LAM', 'OHD18LAS', 'OHD18LAD', 'OHD19LAM', 'OHD19LAS'],\n",
       " ['OHD26LAS', 'OHD26LAD', 'OHD25LAM', 'OHD25LAS', 'OHD25LAD'])"
      ]
     },
     "execution_count": 5,
     "metadata": {},
     "output_type": "execute_result"
    }
   ],
   "source": [
    "perio_cal_regex = re.compile(\n",
    "    r'OHD[0-9]{2}(LAD|LAM|LAS)'\n",
    ")\n",
    "temp = map(\n",
    "    lambda x: \n",
    "           perio_cal_regex.match(x).group() if perio_cal_regex.match(x) else None, \n",
    "           OHXPRL_C.columns\n",
    "    )\n",
    "perio_cal_lower_cols = [x for x in temp if x is not None]\n",
    "print('number of lower perio cols:', len(perio_cal_lower_cols))\n",
    "(perio_cal_lower_cols[:5], perio_cal_lower_cols[-5:]) # check head and tail of list"
   ]
  },
  {
   "cell_type": "code",
   "execution_count": 6,
   "id": "5a18ab5e-d1b1-44a0-a61b-2fac2e24446d",
   "metadata": {},
   "outputs": [
    {
     "name": "stdout",
     "output_type": "stream",
     "text": [
      "number of upper perio cols: 42\n"
     ]
    },
    {
     "data": {
      "text/plain": [
       "(['OHD02LAM', 'OHD02LAS', 'OHD02LAD', 'OHD03LAM', 'OHD03LAS'],\n",
       " ['OHD10LAS', 'OHD10LAD', 'OHD09LAM', 'OHD09LAS', 'OHD09LAD'])"
      ]
     },
     "execution_count": 6,
     "metadata": {},
     "output_type": "execute_result"
    }
   ],
   "source": [
    "perio_cal_regex = re.compile(\n",
    "    r'OHD[0-9]{2}(LAD|LAM|LAS)'\n",
    ")\n",
    "temp = map(\n",
    "    lambda x: \n",
    "           perio_cal_regex.match(x).group() if perio_cal_regex.match(x) else None, \n",
    "           OHXPRU_C.columns\n",
    "    )\n",
    "perio_cal_upper_cols = [x for x in temp if x is not None]\n",
    "print('number of upper perio cols:', len(perio_cal_upper_cols))\n",
    "(perio_cal_upper_cols[:5], perio_cal_upper_cols[-5:]) # check head and tail of list"
   ]
  },
  {
   "cell_type": "markdown",
   "id": "c3f860b4-57f5-4a51-9876-91c4c32a9929",
   "metadata": {},
   "source": [
    "combine lower and upper perio cols"
   ]
  },
  {
   "cell_type": "code",
   "execution_count": 7,
   "id": "00852ca4-03b4-402b-937a-19078afa1c27",
   "metadata": {},
   "outputs": [
    {
     "name": "stdout",
     "output_type": "stream",
     "text": [
      "number of perio cols: 84\n"
     ]
    },
    {
     "data": {
      "text/plain": [
       "(['OHD18LAM', 'OHD18LAS', 'OHD18LAD', 'OHD19LAM', 'OHD19LAS'],\n",
       " ['OHD10LAS', 'OHD10LAD', 'OHD09LAM', 'OHD09LAS', 'OHD09LAD'])"
      ]
     },
     "execution_count": 7,
     "metadata": {},
     "output_type": "execute_result"
    }
   ],
   "source": [
    "perio_cal_cols = perio_cal_lower_cols + perio_cal_upper_cols\n",
    "print('number of perio cols:', len(perio_cal_cols))\n",
    "(perio_cal_cols[:5], perio_cal_cols[-5:]) # check head and tail"
   ]
  },
  {
   "cell_type": "markdown",
   "id": "d29374a0-6c2b-4fb8-95ce-489a67921cc4",
   "metadata": {},
   "source": [
    "---"
   ]
  },
  {
   "cell_type": "markdown",
   "id": "fb1d245a-7ec1-488e-8735-8a37e4a02584",
   "metadata": {},
   "source": [
    "## create data subsets for patients 18 and older  \n",
    "* For demographics, only include 18 and older.\n",
    "* For periodontal, only include patients from demographics subset \n",
    "* For the dentition, only include patients from demographics subset and those that have a periodontal information.\n",
    "* Finally, subset demographic data for those with perio records."
   ]
  },
  {
   "cell_type": "markdown",
   "id": "dc25f506-73ec-4b1e-874c-fab78eee075b",
   "metadata": {},
   "source": [
    "subset demographics to 18 and older"
   ]
  },
  {
   "cell_type": "code",
   "execution_count": 8,
   "id": "1704d995-48f9-4059-8cd8-60c97426da0a",
   "metadata": {},
   "outputs": [
    {
     "data": {
      "text/plain": [
       "(5620, 44)"
      ]
     },
     "execution_count": 8,
     "metadata": {},
     "output_type": "execute_result"
    }
   ],
   "source": [
    "demog_df = DEMO_C[DEMO_C.RIDAGEYR > 17].copy()\n",
    "demog_df.shape"
   ]
  },
  {
   "cell_type": "markdown",
   "id": "7a5eb48b-8f4f-4392-b6b5-6ebf0b4176a4",
   "metadata": {},
   "source": [
    "subset perio data to those in the demographics table"
   ]
  },
  {
   "cell_type": "code",
   "execution_count": 9,
   "id": "a6aacf13-0f82-40b3-8505-71f7cacc2d96",
   "metadata": {},
   "outputs": [
    {
     "data": {
      "text/plain": [
       "(5303, 171)"
      ]
     },
     "execution_count": 9,
     "metadata": {},
     "output_type": "execute_result"
    }
   ],
   "source": [
    "perio_lower_df = OHXPRL_C[OHXPRL_C.SEQN.isin(demog_df.SEQN)]\n",
    "perio_lower_df.shape"
   ]
  },
  {
   "cell_type": "code",
   "execution_count": 10,
   "id": "377a1bd9-e6ea-4a65-8b9d-cf581d373e39",
   "metadata": {},
   "outputs": [
    {
     "data": {
      "text/plain": [
       "(5303, 171)"
      ]
     },
     "execution_count": 10,
     "metadata": {},
     "output_type": "execute_result"
    }
   ],
   "source": [
    "perio_upper_df = OHXPRU_C[OHXPRU_C.SEQN.isin(demog_df.SEQN)]\n",
    "perio_upper_df.shape"
   ]
  },
  {
   "cell_type": "markdown",
   "id": "baec6a3c-0063-4b0d-9315-e07de6181268",
   "metadata": {},
   "source": [
    "Verify the `SENQ` in perio upper and perio lower are the same. Answer should be `False`"
   ]
  },
  {
   "cell_type": "code",
   "execution_count": 11,
   "id": "be4451ad-543d-4ad7-97fc-1588c7b1b4de",
   "metadata": {},
   "outputs": [
    {
     "data": {
      "text/plain": [
       "False"
      ]
     },
     "execution_count": 11,
     "metadata": {},
     "output_type": "execute_result"
    }
   ],
   "source": [
    "False in list(OHXPRL_C.SEQN == OHXPRU_C.SEQN)"
   ]
  },
  {
   "cell_type": "markdown",
   "id": "b453843e-ccc0-42e4-9700-e19eacc11b9a",
   "metadata": {},
   "source": [
    "concat lower and upper perio data"
   ]
  },
  {
   "cell_type": "code",
   "execution_count": 12,
   "id": "bdecf5f5-1918-43c3-b382-d2d147610f1d",
   "metadata": {},
   "outputs": [
    {
     "data": {
      "text/plain": [
       "(5303, 341)"
      ]
     },
     "execution_count": 12,
     "metadata": {},
     "output_type": "execute_result"
    }
   ],
   "source": [
    "perio_cal_df = pd.merge(perio_lower_df, perio_upper_df, how='inner', on='SEQN')\n",
    "perio_cal_df.shape"
   ]
  },
  {
   "cell_type": "markdown",
   "id": "4b6b60a5-3add-4712-ba7a-6a8bae2371ce",
   "metadata": {},
   "source": [
    "subset dentition table to those in the perio table"
   ]
  },
  {
   "cell_type": "code",
   "execution_count": 13,
   "id": "23b0aa96-e94c-4abc-a60b-d8a94799a9a8",
   "metadata": {},
   "outputs": [
    {
     "data": {
      "text/plain": [
       "(5303, 149)"
      ]
     },
     "execution_count": 13,
     "metadata": {},
     "output_type": "execute_result"
    }
   ],
   "source": [
    "dentition_df = OHXDEN_C[OHXDEN_C.SEQN.isin(perio_cal_df.SEQN)].reset_index(drop=True)\n",
    "dentition_df.shape"
   ]
  },
  {
   "cell_type": "markdown",
   "id": "349495b1-0581-463c-ab81-597a38b34d3c",
   "metadata": {},
   "source": [
    "now, trim down the demographics data to those with perio data  \n",
    "since demographic table has 5620 records (above) and the perio has 5303 records, some demographic records do not have matches in the perio table"
   ]
  },
  {
   "cell_type": "code",
   "execution_count": 14,
   "id": "68d41575-011c-4d14-80c7-803882ac333d",
   "metadata": {},
   "outputs": [
    {
     "data": {
      "text/plain": [
       "(5303, 44)"
      ]
     },
     "execution_count": 14,
     "metadata": {},
     "output_type": "execute_result"
    }
   ],
   "source": [
    "demog_df = demog_df[demog_df.SEQN.isin(perio_cal_df.SEQN)].reset_index(drop=True)\n",
    "demog_df.shape"
   ]
  },
  {
   "cell_type": "markdown",
   "id": "3c8fdef1-8d62-4ba9-b6fc-df57ed9e48e5",
   "metadata": {},
   "source": [
    "---"
   ]
  },
  {
   "cell_type": "markdown",
   "id": "ef41556d-04e6-4d92-abd9-5f89b75fef0c",
   "metadata": {},
   "source": [
    "## subset dentition and perio columns to specific tooth columns"
   ]
  },
  {
   "cell_type": "code",
   "execution_count": 15,
   "id": "247c14cb-919f-4be8-9014-f3d355d28e6b",
   "metadata": {},
   "outputs": [
    {
     "data": {
      "text/plain": [
       "(5303, 33)"
      ]
     },
     "execution_count": 15,
     "metadata": {},
     "output_type": "execute_result"
    }
   ],
   "source": [
    "dentition_df = dentition_df[['SEQN'] + dentition_tooth_cols] # remember to include the SEQN column\n",
    "dentition_df.shape"
   ]
  },
  {
   "cell_type": "code",
   "execution_count": 16,
   "id": "be967b62-ddbb-432a-a7f3-177d9ef3ec19",
   "metadata": {},
   "outputs": [
    {
     "data": {
      "text/plain": [
       "(5303, 85)"
      ]
     },
     "execution_count": 16,
     "metadata": {},
     "output_type": "execute_result"
    }
   ],
   "source": [
    "perio_cal_df = perio_cal_df[['SEQN'] + perio_cal_cols] # remember to include the SEQN column\n",
    "perio_cal_df.shape"
   ]
  },
  {
   "cell_type": "markdown",
   "id": "b065ce1f-ab49-4fb5-be20-a53c11e1df26",
   "metadata": {},
   "source": [
    "---"
   ]
  },
  {
   "cell_type": "markdown",
   "id": "d3b486b0-db95-410e-8629-d27cea89c91e",
   "metadata": {},
   "source": [
    "## calculate number of teeth for each dentition record  "
   ]
  },
  {
   "cell_type": "code",
   "execution_count": 17,
   "id": "61ab39c9-de75-4c3a-a4d6-faae66ae8ea8",
   "metadata": {},
   "outputs": [],
   "source": [
    "def calculate_num_teeth(dentition_row):\n",
    "    teeth = [\n",
    "        tooth for tooth in dentition_row\n",
    "        if tooth == 'Permanent tooth (succedaneous)' or tooth == 'Primary tooth (deciduous)'\n",
    "    ]\n",
    "    return len(teeth)"
   ]
  },
  {
   "cell_type": "code",
   "execution_count": 18,
   "id": "03da186b-c479-47ef-9c35-b3604b7944a5",
   "metadata": {},
   "outputs": [],
   "source": [
    "dentition_df['num_teeth'] = dentition_df.apply(lambda row: calculate_num_teeth(row), axis=1)"
   ]
  },
  {
   "cell_type": "markdown",
   "id": "e2975290-e439-43bd-956b-30d50878bcf4",
   "metadata": {},
   "source": [
    "add number of teeth data to perio data"
   ]
  },
  {
   "cell_type": "code",
   "execution_count": 19,
   "id": "f17de0fe-6c64-4f13-8cfa-5b2ed3dc03ec",
   "metadata": {},
   "outputs": [],
   "source": [
    "perio_cal_df = pd.merge(perio_cal_df, dentition_df[['SEQN', 'num_teeth']], how='left', on='SEQN')"
   ]
  },
  {
   "cell_type": "markdown",
   "id": "b232bcf4-276c-4624-acb1-b3582e24ddc7",
   "metadata": {},
   "source": [
    "---"
   ]
  },
  {
   "cell_type": "markdown",
   "id": "0f1f092d-fa62-4a1f-aca1-f2d9daabab11",
   "metadata": {},
   "source": [
    "## calculate number of teeth with CAL >=3mm, >=4mm, >=5mm  "
   ]
  },
  {
   "cell_type": "markdown",
   "id": "545066f8-2dcc-4d7d-8bb3-97a96865e56f",
   "metadata": {},
   "source": [
    "create a dict mapping each CAL measurement to a tooth.  \n",
    "e.g., OHD18LAM maps to OHD18 (i.e., tooth 18)"
   ]
  },
  {
   "cell_type": "code",
   "execution_count": 20,
   "id": "f862e1df-7e94-451d-9acf-b3107ff05395",
   "metadata": {},
   "outputs": [],
   "source": [
    "# to associate CAL with tooth, create a map for each tooth CAL group\n",
    "# note: groups are based on the first 5 chars in CAL column name (e.g., OHX02)\n",
    "tooth_cal_dict = {\n",
    "    f'{k}TC':list(g) for k, g in itertools.groupby(perio_cal_cols, key=lambda col: col[:5])\n",
    "}"
   ]
  },
  {
   "cell_type": "code",
   "execution_count": 21,
   "id": "51bc82e4-4eb5-4e92-804b-5d71a925ba72",
   "metadata": {},
   "outputs": [],
   "source": [
    "def calculate_num_CAL_measurement(perio_cal_row, measurement, tooth_cal_dict):\n",
    "    teeth_measurements = [] # list to hold teeth that have >= measurement\n",
    "\n",
    "    # get each tooth and the CAL measurement fields for that tooth\n",
    "    for tooth_key, tooth_cal_fields in tooth_cal_dict.items():\n",
    "        # now get the CAL measurement for the field\n",
    "        for field in tooth_cal_fields:\n",
    "            cal = perio_cal_row[field] # note: perio_cal_row is pandas series\n",
    "            \n",
    "            # if the CAL is >= the measurement add the tooth to teeth_measurements\n",
    "            # break out of loop since there no need to check more fields\n",
    "            if pd.notnull(cal) and cal < 99 and cal >= measurement:\n",
    "                teeth_measurements.append(tooth_key)\n",
    "                break\n",
    "    return len(teeth_measurements) # return number of teeth >= measurement"
   ]
  },
  {
   "cell_type": "markdown",
   "id": "09a943f7-97f2-4346-b7b9-862db6d64dd5",
   "metadata": {},
   "source": [
    "add number and percentage of teeth with CAL >= measurement"
   ]
  },
  {
   "cell_type": "code",
   "execution_count": 22,
   "id": "83882ae5-d643-4cbb-a8fd-3ccf4a9de20e",
   "metadata": {},
   "outputs": [],
   "source": [
    "# teeth with CAL >= 3mm\n",
    "perio_cal_df['num_teeth_gte_3'] = \\\n",
    "    perio_cal_df.apply(lambda row: calculate_num_CAL_measurement(row, 3, tooth_cal_dict), axis=1)\n",
    "perio_cal_df['pct_teeth_gte_3'] = \\\n",
    "    np.where(perio_cal_df.num_teeth > 0, round(perio_cal_df.num_teeth_gte_3/perio_cal_df.num_teeth, 2), 0)\n",
    "\n",
    "# teeth with CAL >= 4mm\n",
    "perio_cal_df['num_teeth_gte_4'] = \\\n",
    "    perio_cal_df.apply(lambda row: calculate_num_CAL_measurement(row, 4, tooth_cal_dict), axis=1)\n",
    "perio_cal_df['pct_teeth_gte_4'] = \\\n",
    "    np.where(perio_cal_df.num_teeth > 0, round(perio_cal_df.num_teeth_gte_4/perio_cal_df.num_teeth, 2), 0)\n",
    "\n",
    "# teeth with CAL >= 5mm\n",
    "perio_cal_df['num_teeth_gte_5'] = \\\n",
    "    perio_cal_df.apply(lambda row: calculate_num_CAL_measurement(row, 5, tooth_cal_dict), axis=1)\n",
    "perio_cal_df['pct_teeth_gte_5'] = \\\n",
    "    np.where(perio_cal_df.num_teeth > 0, round(perio_cal_df.num_teeth_gte_5/perio_cal_df.num_teeth, 2), 0)"
   ]
  },
  {
   "cell_type": "code",
   "execution_count": 23,
   "id": "75cc2bcd-8b2d-4883-ae8c-8a9adf3fad10",
   "metadata": {},
   "outputs": [
    {
     "data": {
      "text/html": [
       "<div>\n",
       "<style scoped>\n",
       "    .dataframe tbody tr th:only-of-type {\n",
       "        vertical-align: middle;\n",
       "    }\n",
       "\n",
       "    .dataframe tbody tr th {\n",
       "        vertical-align: top;\n",
       "    }\n",
       "\n",
       "    .dataframe thead th {\n",
       "        text-align: right;\n",
       "    }\n",
       "</style>\n",
       "<table border=\"1\" class=\"dataframe\">\n",
       "  <thead>\n",
       "    <tr style=\"text-align: right;\">\n",
       "      <th></th>\n",
       "      <th>SEQN</th>\n",
       "      <th>OHD18LAM</th>\n",
       "      <th>OHD18LAS</th>\n",
       "      <th>OHD18LAD</th>\n",
       "      <th>OHD19LAM</th>\n",
       "      <th>OHD19LAS</th>\n",
       "      <th>OHD19LAD</th>\n",
       "      <th>OHD20LAM</th>\n",
       "      <th>OHD20LAS</th>\n",
       "      <th>OHD20LAD</th>\n",
       "      <th>...</th>\n",
       "      <th>OHD09LAM</th>\n",
       "      <th>OHD09LAS</th>\n",
       "      <th>OHD09LAD</th>\n",
       "      <th>num_teeth</th>\n",
       "      <th>num_teeth_gte_3</th>\n",
       "      <th>pct_teeth_gte_3</th>\n",
       "      <th>num_teeth_gte_4</th>\n",
       "      <th>pct_teeth_gte_4</th>\n",
       "      <th>num_teeth_gte_5</th>\n",
       "      <th>pct_teeth_gte_5</th>\n",
       "    </tr>\n",
       "  </thead>\n",
       "  <tbody>\n",
       "    <tr>\n",
       "      <th>0</th>\n",
       "      <td>21005</td>\n",
       "      <td>NaN</td>\n",
       "      <td>NaN</td>\n",
       "      <td>NaN</td>\n",
       "      <td>NaN</td>\n",
       "      <td>NaN</td>\n",
       "      <td>NaN</td>\n",
       "      <td>NaN</td>\n",
       "      <td>NaN</td>\n",
       "      <td>NaN</td>\n",
       "      <td>...</td>\n",
       "      <td>NaN</td>\n",
       "      <td>NaN</td>\n",
       "      <td>NaN</td>\n",
       "      <td>28</td>\n",
       "      <td>0</td>\n",
       "      <td>0.00</td>\n",
       "      <td>0</td>\n",
       "      <td>0.00</td>\n",
       "      <td>0</td>\n",
       "      <td>0.00</td>\n",
       "    </tr>\n",
       "    <tr>\n",
       "      <th>1</th>\n",
       "      <td>21009</td>\n",
       "      <td>NaN</td>\n",
       "      <td>NaN</td>\n",
       "      <td>NaN</td>\n",
       "      <td>NaN</td>\n",
       "      <td>NaN</td>\n",
       "      <td>NaN</td>\n",
       "      <td>NaN</td>\n",
       "      <td>NaN</td>\n",
       "      <td>NaN</td>\n",
       "      <td>...</td>\n",
       "      <td>NaN</td>\n",
       "      <td>NaN</td>\n",
       "      <td>NaN</td>\n",
       "      <td>24</td>\n",
       "      <td>0</td>\n",
       "      <td>0.00</td>\n",
       "      <td>0</td>\n",
       "      <td>0.00</td>\n",
       "      <td>0</td>\n",
       "      <td>0.00</td>\n",
       "    </tr>\n",
       "    <tr>\n",
       "      <th>2</th>\n",
       "      <td>21010</td>\n",
       "      <td>NaN</td>\n",
       "      <td>NaN</td>\n",
       "      <td>NaN</td>\n",
       "      <td>NaN</td>\n",
       "      <td>NaN</td>\n",
       "      <td>NaN</td>\n",
       "      <td>NaN</td>\n",
       "      <td>NaN</td>\n",
       "      <td>NaN</td>\n",
       "      <td>...</td>\n",
       "      <td>0.0</td>\n",
       "      <td>1.0</td>\n",
       "      <td>1.0</td>\n",
       "      <td>19</td>\n",
       "      <td>4</td>\n",
       "      <td>0.21</td>\n",
       "      <td>3</td>\n",
       "      <td>0.16</td>\n",
       "      <td>1</td>\n",
       "      <td>0.05</td>\n",
       "    </tr>\n",
       "    <tr>\n",
       "      <th>3</th>\n",
       "      <td>21012</td>\n",
       "      <td>99.0</td>\n",
       "      <td>99.0</td>\n",
       "      <td>99.0</td>\n",
       "      <td>6.0</td>\n",
       "      <td>6.0</td>\n",
       "      <td>7.0</td>\n",
       "      <td>4.0</td>\n",
       "      <td>2.0</td>\n",
       "      <td>3.0</td>\n",
       "      <td>...</td>\n",
       "      <td>0.0</td>\n",
       "      <td>6.0</td>\n",
       "      <td>3.0</td>\n",
       "      <td>19</td>\n",
       "      <td>10</td>\n",
       "      <td>0.53</td>\n",
       "      <td>10</td>\n",
       "      <td>0.53</td>\n",
       "      <td>7</td>\n",
       "      <td>0.37</td>\n",
       "    </tr>\n",
       "    <tr>\n",
       "      <th>4</th>\n",
       "      <td>21015</td>\n",
       "      <td>NaN</td>\n",
       "      <td>NaN</td>\n",
       "      <td>NaN</td>\n",
       "      <td>NaN</td>\n",
       "      <td>NaN</td>\n",
       "      <td>NaN</td>\n",
       "      <td>NaN</td>\n",
       "      <td>NaN</td>\n",
       "      <td>NaN</td>\n",
       "      <td>...</td>\n",
       "      <td>NaN</td>\n",
       "      <td>NaN</td>\n",
       "      <td>NaN</td>\n",
       "      <td>25</td>\n",
       "      <td>0</td>\n",
       "      <td>0.00</td>\n",
       "      <td>0</td>\n",
       "      <td>0.00</td>\n",
       "      <td>0</td>\n",
       "      <td>0.00</td>\n",
       "    </tr>\n",
       "  </tbody>\n",
       "</table>\n",
       "<p>5 rows × 92 columns</p>\n",
       "</div>"
      ],
      "text/plain": [
       "    SEQN  OHD18LAM  OHD18LAS  OHD18LAD  OHD19LAM  OHD19LAS  OHD19LAD  \\\n",
       "0  21005       NaN       NaN       NaN       NaN       NaN       NaN   \n",
       "1  21009       NaN       NaN       NaN       NaN       NaN       NaN   \n",
       "2  21010       NaN       NaN       NaN       NaN       NaN       NaN   \n",
       "3  21012      99.0      99.0      99.0       6.0       6.0       7.0   \n",
       "4  21015       NaN       NaN       NaN       NaN       NaN       NaN   \n",
       "\n",
       "   OHD20LAM  OHD20LAS  OHD20LAD  ...  OHD09LAM  OHD09LAS  OHD09LAD  num_teeth  \\\n",
       "0       NaN       NaN       NaN  ...       NaN       NaN       NaN         28   \n",
       "1       NaN       NaN       NaN  ...       NaN       NaN       NaN         24   \n",
       "2       NaN       NaN       NaN  ...       0.0       1.0       1.0         19   \n",
       "3       4.0       2.0       3.0  ...       0.0       6.0       3.0         19   \n",
       "4       NaN       NaN       NaN  ...       NaN       NaN       NaN         25   \n",
       "\n",
       "   num_teeth_gte_3  pct_teeth_gte_3  num_teeth_gte_4  pct_teeth_gte_4  \\\n",
       "0                0             0.00                0             0.00   \n",
       "1                0             0.00                0             0.00   \n",
       "2                4             0.21                3             0.16   \n",
       "3               10             0.53               10             0.53   \n",
       "4                0             0.00                0             0.00   \n",
       "\n",
       "   num_teeth_gte_5  pct_teeth_gte_5  \n",
       "0                0             0.00  \n",
       "1                0             0.00  \n",
       "2                1             0.05  \n",
       "3                7             0.37  \n",
       "4                0             0.00  \n",
       "\n",
       "[5 rows x 92 columns]"
      ]
     },
     "execution_count": 23,
     "metadata": {},
     "output_type": "execute_result"
    }
   ],
   "source": [
    "perio_cal_df.head()"
   ]
  },
  {
   "cell_type": "markdown",
   "id": "36067020-5aa4-433e-b4a9-cf3525e50854",
   "metadata": {},
   "source": [
    "## save output"
   ]
  },
  {
   "cell_type": "code",
   "execution_count": 24,
   "id": "a06ec9c2-ca65-400e-b819-1bec53ba9c0e",
   "metadata": {},
   "outputs": [
    {
     "data": {
      "text/plain": [
       "(5303, 14)"
      ]
     },
     "execution_count": 24,
     "metadata": {},
     "output_type": "execute_result"
    }
   ],
   "source": [
    "perio_cal_df.pct_teeth_gte_3\n",
    "save_df = pd.merge(\n",
    "    demog_df[['SEQN', 'RIDAGEYR', 'RIAGENDR', 'WTINT2YR', 'WTMEC2YR', 'SDMVPSU', 'SDMVSTRA']],\n",
    "    perio_cal_df[['SEQN', 'num_teeth', 'num_teeth_gte_3', 'pct_teeth_gte_3', 'num_teeth_gte_4', 'pct_teeth_gte_4', 'num_teeth_gte_5', 'pct_teeth_gte_5']],\n",
    "    how='inner',\n",
    "    on='SEQN'\n",
    ")\n",
    "save_df.shape"
   ]
  },
  {
   "cell_type": "code",
   "execution_count": 25,
   "id": "a1a59d94-c528-4f4f-aad9-d6df1677fcfe",
   "metadata": {},
   "outputs": [
    {
     "data": {
      "text/html": [
       "<div>\n",
       "<style scoped>\n",
       "    .dataframe tbody tr th:only-of-type {\n",
       "        vertical-align: middle;\n",
       "    }\n",
       "\n",
       "    .dataframe tbody tr th {\n",
       "        vertical-align: top;\n",
       "    }\n",
       "\n",
       "    .dataframe thead th {\n",
       "        text-align: right;\n",
       "    }\n",
       "</style>\n",
       "<table border=\"1\" class=\"dataframe\">\n",
       "  <thead>\n",
       "    <tr style=\"text-align: right;\">\n",
       "      <th></th>\n",
       "      <th>SEQN</th>\n",
       "      <th>RIDAGEYR</th>\n",
       "      <th>RIAGENDR</th>\n",
       "      <th>WTINT2YR</th>\n",
       "      <th>WTMEC2YR</th>\n",
       "      <th>SDMVPSU</th>\n",
       "      <th>SDMVSTRA</th>\n",
       "      <th>num_teeth</th>\n",
       "      <th>num_teeth_gte_3</th>\n",
       "      <th>pct_teeth_gte_3</th>\n",
       "      <th>num_teeth_gte_4</th>\n",
       "      <th>pct_teeth_gte_4</th>\n",
       "      <th>num_teeth_gte_5</th>\n",
       "      <th>pct_teeth_gte_5</th>\n",
       "    </tr>\n",
       "  </thead>\n",
       "  <tbody>\n",
       "    <tr>\n",
       "      <th>0</th>\n",
       "      <td>21005</td>\n",
       "      <td>19</td>\n",
       "      <td>Male</td>\n",
       "      <td>5512.320949</td>\n",
       "      <td>5824.782465</td>\n",
       "      <td>2</td>\n",
       "      <td>39</td>\n",
       "      <td>28</td>\n",
       "      <td>0</td>\n",
       "      <td>0.00</td>\n",
       "      <td>0</td>\n",
       "      <td>0.00</td>\n",
       "      <td>0</td>\n",
       "      <td>0.00</td>\n",
       "    </tr>\n",
       "    <tr>\n",
       "      <th>1</th>\n",
       "      <td>21009</td>\n",
       "      <td>55</td>\n",
       "      <td>Male</td>\n",
       "      <td>97593.678977</td>\n",
       "      <td>97731.727244</td>\n",
       "      <td>2</td>\n",
       "      <td>31</td>\n",
       "      <td>24</td>\n",
       "      <td>0</td>\n",
       "      <td>0.00</td>\n",
       "      <td>0</td>\n",
       "      <td>0.00</td>\n",
       "      <td>0</td>\n",
       "      <td>0.00</td>\n",
       "    </tr>\n",
       "    <tr>\n",
       "      <th>2</th>\n",
       "      <td>21010</td>\n",
       "      <td>52</td>\n",
       "      <td>Female</td>\n",
       "      <td>39599.362689</td>\n",
       "      <td>43286.576474</td>\n",
       "      <td>1</td>\n",
       "      <td>29</td>\n",
       "      <td>19</td>\n",
       "      <td>4</td>\n",
       "      <td>0.21</td>\n",
       "      <td>3</td>\n",
       "      <td>0.16</td>\n",
       "      <td>1</td>\n",
       "      <td>0.05</td>\n",
       "    </tr>\n",
       "    <tr>\n",
       "      <th>3</th>\n",
       "      <td>21012</td>\n",
       "      <td>63</td>\n",
       "      <td>Male</td>\n",
       "      <td>12629.440480</td>\n",
       "      <td>12947.338142</td>\n",
       "      <td>2</td>\n",
       "      <td>33</td>\n",
       "      <td>19</td>\n",
       "      <td>10</td>\n",
       "      <td>0.53</td>\n",
       "      <td>10</td>\n",
       "      <td>0.53</td>\n",
       "      <td>7</td>\n",
       "      <td>0.37</td>\n",
       "    </tr>\n",
       "    <tr>\n",
       "      <th>4</th>\n",
       "      <td>21015</td>\n",
       "      <td>83</td>\n",
       "      <td>Male</td>\n",
       "      <td>17625.875727</td>\n",
       "      <td>19994.159857</td>\n",
       "      <td>2</td>\n",
       "      <td>33</td>\n",
       "      <td>25</td>\n",
       "      <td>0</td>\n",
       "      <td>0.00</td>\n",
       "      <td>0</td>\n",
       "      <td>0.00</td>\n",
       "      <td>0</td>\n",
       "      <td>0.00</td>\n",
       "    </tr>\n",
       "  </tbody>\n",
       "</table>\n",
       "</div>"
      ],
      "text/plain": [
       "    SEQN  RIDAGEYR RIAGENDR      WTINT2YR      WTMEC2YR  SDMVPSU  SDMVSTRA  \\\n",
       "0  21005        19     Male   5512.320949   5824.782465        2        39   \n",
       "1  21009        55     Male  97593.678977  97731.727244        2        31   \n",
       "2  21010        52   Female  39599.362689  43286.576474        1        29   \n",
       "3  21012        63     Male  12629.440480  12947.338142        2        33   \n",
       "4  21015        83     Male  17625.875727  19994.159857        2        33   \n",
       "\n",
       "   num_teeth  num_teeth_gte_3  pct_teeth_gte_3  num_teeth_gte_4  \\\n",
       "0         28                0             0.00                0   \n",
       "1         24                0             0.00                0   \n",
       "2         19                4             0.21                3   \n",
       "3         19               10             0.53               10   \n",
       "4         25                0             0.00                0   \n",
       "\n",
       "   pct_teeth_gte_4  num_teeth_gte_5  pct_teeth_gte_5  \n",
       "0             0.00                0             0.00  \n",
       "1             0.00                0             0.00  \n",
       "2             0.16                1             0.05  \n",
       "3             0.53                7             0.37  \n",
       "4             0.00                0             0.00  "
      ]
     },
     "execution_count": 25,
     "metadata": {},
     "output_type": "execute_result"
    }
   ],
   "source": [
    "save_df.head()"
   ]
  },
  {
   "cell_type": "code",
   "execution_count": null,
   "id": "4f1a7375-174a-4871-9fcb-c3a66ca6d0b7",
   "metadata": {},
   "outputs": [],
   "source": [
    "save_df.to_csv('../data/2003-2004/output/patient_tooth_CAL"
   ]
  },
  {
   "cell_type": "markdown",
   "id": "318a6759-3fec-4d7d-adfc-58a63c010870",
   "metadata": {},
   "source": [
    "## plot results"
   ]
  },
  {
   "cell_type": "markdown",
   "id": "cb6c2adb-0da4-4d6b-b8e0-54968c1d1a17",
   "metadata": {},
   "source": [
    "**help function for determining age groups**"
   ]
  },
  {
   "cell_type": "code",
   "execution_count": 108,
   "id": "72f665dd-f9b2-466b-8768-e455a1720280",
   "metadata": {},
   "outputs": [],
   "source": [
    "def get_age_group(age):\n",
    "    age_group = ''\n",
    "    if age >= 18 and age <= 25:\n",
    "        age_group = '18-25'\n",
    "    elif age >= 26 and age <= 35:\n",
    "        age_group = '26-35'\n",
    "    elif age >= 36 and age <= 45:\n",
    "        age_group = '36-45'\n",
    "    elif age >= 46 and age <= 55:\n",
    "        age_group = '46-55'\n",
    "    elif age >= 56 and age <= 65:\n",
    "        age_group = '56-65'\n",
    "    elif age >= 66 and age <= 75:\n",
    "        age_group = '66-75'\n",
    "    else:\n",
    "        age_group = '76+'\n",
    "    \n",
    "    return age_group"
   ]
  },
  {
   "cell_type": "markdown",
   "id": "c973c206-2bf6-403c-89d7-e5b8bfb9548f",
   "metadata": {},
   "source": [
    "set some default figure figures"
   ]
  },
  {
   "cell_type": "code",
   "execution_count": 27,
   "id": "59d6a913-0791-45b9-9afc-6437f0aff405",
   "metadata": {},
   "outputs": [],
   "source": [
    "%matplotlib inline\n",
    "sns.set_theme(\n",
    "    context='notebook', style='darkgrid', palette='deep', font='sans-serif', font_scale=1, color_codes=True, rc=None\n",
    ")"
   ]
  },
  {
   "cell_type": "code",
   "execution_count": 109,
   "id": "30048fce-19f0-41b2-b040-0836401d2f9e",
   "metadata": {},
   "outputs": [],
   "source": [
    "summary_df = pd.merge(\n",
    "    demog_df[['SEQN', 'RIDAGEYR', 'RIAGENDR']], \n",
    "    perio_cal_df[['SEQN', 'num_teeth', 'num_teeth_gte_3', 'pct_teeth_gte_3', 'num_teeth_gte_4', 'pct_teeth_gte_4', 'num_teeth_gte_5', 'pct_teeth_gte_5']], \n",
    "    on='SEQN', \n",
    "    how='inner'\n",
    ")\n",
    "summary_df = summary_df.rename(\n",
    "    columns={\n",
    "        'RIDAGEYR':'age', \n",
    "        'RIAGENDR': 'gender', \n",
    "        'num_teeth_gte_3':\n",
    "        '# CAL >= 3', \n",
    "        'pct_teeth_gte_3': \n",
    "        '% CAL >= 3',\n",
    "        'num_teeth_gte_4':\n",
    "        '# CAL >= 4', \n",
    "        'pct_teeth_gte_4': \n",
    "        '% CAL >= 4',\n",
    "        'num_teeth_gte_5':\n",
    "        '# CAL >= 5', \n",
    "        'pct_teeth_gte_5': \n",
    "        '% CAL >= 5'\n",
    "    }\n",
    ")\n",
    "summary_df['age group'] = summary_df['age'].map(get_age_group)"
   ]
  },
  {
   "cell_type": "markdown",
   "id": "11709abc-514b-472a-bc69-5ddda0b0659e",
   "metadata": {},
   "source": [
    "## age and gender distribution"
   ]
  },
  {
   "cell_type": "code",
   "execution_count": 132,
   "id": "e63a31e0-dc0e-4d7f-8a09-09e218a4d2c0",
   "metadata": {},
   "outputs": [
    {
     "data": {
      "image/png": "[encoded data removed]",
      "text/plain": [
       "<Figure size 800x300 with 1 Axes>"
      ]
     },
     "metadata": {},
     "output_type": "display_data"
    }
   ],
   "source": [
    "plt.figure(figsize=(8,3))\n",
    "sns.histplot(data=summary_df, x='age', hue='gender', multiple=\"dodge\", shrink=.8)\n",
    "plt.savefig('../figures/age-gender-distribution.png', dpi=300)\n",
    "plt.show()"
   ]
  },
  {
   "cell_type": "code",
   "execution_count": 133,
   "id": "08891370-d380-405f-8060-f6327b3f7e16",
   "metadata": {},
   "outputs": [
    {
     "data": {
      "image/png": "[encoded data removed]",
      "text/plain": [
       "<Figure size 800x300 with 1 Axes>"
      ]
     },
     "metadata": {},
     "output_type": "display_data"
    }
   ],
   "source": [
    "plt.figure(figsize=(8,3))\n",
    "ax = sns.histplot(data=summary_df, x='num_teeth', hue='gender', multiple=\"dodge\", shrink=.8)\n",
    "ax.set_xlabel('number of teeth')\n",
    "\n",
    "plt.savefig('../figures/age-num_teeth-distribution.png', dpi=300)\n",
    "plt.show()"
   ]
  },
  {
   "cell_type": "markdown",
   "id": "363dba70-3889-4ff9-b669-e7ef71ba4928",
   "metadata": {},
   "source": [
    "## plot age by pct_teeth >= CAL"
   ]
  },
  {
   "cell_type": "code",
   "execution_count": 134,
   "id": "ce4ee13c-4858-49be-8393-532a351b27df",
   "metadata": {},
   "outputs": [
    {
     "data": {
      "image/png": "[encoded data removed]",
      "text/plain": [
       "<Figure size 1400x300 with 3 Axes>"
      ]
     },
     "metadata": {},
     "output_type": "display_data"
    }
   ],
   "source": [
    "# order_ = ['76+', '66-75', '56-65', '46-55', '36-45', '26-35', '18-25'] \n",
    "order_ = ['18-25', '26-35','36-45','46-55','56-65', '66-75', '76+']\n",
    "\n",
    "fig, axs = plt.subplots(1, 3, figsize=(14, 3), sharex=True, sharey=True, tight_layout=True)\n",
    "\n",
    "sns.barplot(data=summary_df, x='age group', y='% CAL >= 3', order=order_, errorbar=None, hue='gender', estimator='mean', ax=axs[0])\n",
    "axs[0].set_title('% Teeth with CAL >= 3')\n",
    "\n",
    "sns.barplot(data=summary_df, x='age group', y='% CAL >= 4', order=order_, errorbar=None, hue='gender', estimator='mean', ax=axs[1])\n",
    "axs[1].set_title('% Teeth with CAL >= 4')\n",
    "\n",
    "sns.barplot(data=summary_df, x='age group', y='% CAL >= 5', order=order_, errorbar=None, hue='gender', estimator='mean', ax=axs[2])\n",
    "axs[2].set_title('% Teeth with CAL >= 5')\n",
    "\n",
    "axs[0].set_xlabel('age group')\n",
    "axs[1].set_xlabel('age group')\n",
    "axs[2].set_xlabel('age group')\n",
    "\n",
    "axs[0].set_ylabel('percent')\n",
    "\n",
    "plt.savefig('../figures/age-pct_teeth_CAL-distribution.png', dpi=300)\n",
    "plt.show()"
   ]
  },
  {
   "cell_type": "code",
   "execution_count": null,
   "id": "c23f9d85-6178-4ca9-b1a6-60f7dcf0de0b",
   "metadata": {},
   "outputs": [],
   "source": []
  }
 ],
 "metadata": {
  "kernelspec": {
   "display_name": "Python 3 (ipykernel)",
   "language": "python",
   "name": "python3"
  },
  "language_info": {
   "codemirror_mode": {
    "name": "ipython",
    "version": 3
   },
   "file_extension": ".py",
   "mimetype": "text/x-python",
   "name": "python",
   "nbconvert_exporter": "python",
   "pygments_lexer": "ipython3",
   "version": "3.11.11"
  }
 },
 "nbformat": 4,
 "nbformat_minor": 5
}
